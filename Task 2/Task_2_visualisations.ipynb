{
  "cells": [
    {
      "cell_type": "code",
      "execution_count": 13,
      "metadata": {
        "colab": {
          "base_uri": "https://localhost:8080/",
          "height": 461
        },
        "id": "TeeFykVvHo8u",
        "outputId": "c9b95df3-b99d-44e0-f485-5ce3851e33cc"
      },
      "outputs": [
        {
          "data": {
            "text/html": [
              "<div>\n",
              "<style scoped>\n",
              "    .dataframe tbody tr th:only-of-type {\n",
              "        vertical-align: middle;\n",
              "    }\n",
              "\n",
              "    .dataframe tbody tr th {\n",
              "        vertical-align: top;\n",
              "    }\n",
              "\n",
              "    .dataframe thead th {\n",
              "        text-align: right;\n",
              "    }\n",
              "</style>\n",
              "<table border=\"1\" class=\"dataframe\">\n",
              "  <thead>\n",
              "    <tr style=\"text-align: right;\">\n",
              "      <th></th>\n",
              "      <th>cell_line</th>\n",
              "      <th>transcript_id</th>\n",
              "      <th>transcript_position</th>\n",
              "      <th>start</th>\n",
              "      <th>end</th>\n",
              "      <th>n_reads</th>\n",
              "      <th>dwelling_t-1</th>\n",
              "      <th>sd_-1</th>\n",
              "      <th>mean_-1</th>\n",
              "      <th>dwelling_t0</th>\n",
              "      <th>...</th>\n",
              "      <th>knf_CT</th>\n",
              "      <th>knf_CG</th>\n",
              "      <th>cksnap_AA</th>\n",
              "      <th>cksnap_AT</th>\n",
              "      <th>cksnap_AC</th>\n",
              "      <th>cksnap_GT</th>\n",
              "      <th>cksnap_GC</th>\n",
              "      <th>js_all</th>\n",
              "      <th>eiip</th>\n",
              "      <th>prediction</th>\n",
              "    </tr>\n",
              "  </thead>\n",
              "  <tbody>\n",
              "    <tr>\n",
              "      <th>0</th>\n",
              "      <td>A549</td>\n",
              "      <td>ENST00000547665</td>\n",
              "      <td>559</td>\n",
              "      <td>760859491</td>\n",
              "      <td>760859690</td>\n",
              "      <td>2</td>\n",
              "      <td>0.006289</td>\n",
              "      <td>3.765678</td>\n",
              "      <td>110.700000</td>\n",
              "      <td>0.020420</td>\n",
              "      <td>...</td>\n",
              "      <td>0.000000</td>\n",
              "      <td>0.0</td>\n",
              "      <td>0.00</td>\n",
              "      <td>0.00</td>\n",
              "      <td>0.75</td>\n",
              "      <td>0.00</td>\n",
              "      <td>0.00</td>\n",
              "      <td>0.666667</td>\n",
              "      <td>0.122943</td>\n",
              "      <td>0.009351</td>\n",
              "    </tr>\n",
              "    <tr>\n",
              "      <th>1</th>\n",
              "      <td>A549</td>\n",
              "      <td>ENST00000450744</td>\n",
              "      <td>889</td>\n",
              "      <td>710329043</td>\n",
              "      <td>710329335</td>\n",
              "      <td>2</td>\n",
              "      <td>0.009228</td>\n",
              "      <td>5.604509</td>\n",
              "      <td>116.700000</td>\n",
              "      <td>0.010925</td>\n",
              "      <td>...</td>\n",
              "      <td>0.000000</td>\n",
              "      <td>0.0</td>\n",
              "      <td>0.00</td>\n",
              "      <td>0.00</td>\n",
              "      <td>0.25</td>\n",
              "      <td>0.00</td>\n",
              "      <td>0.25</td>\n",
              "      <td>0.666667</td>\n",
              "      <td>0.108829</td>\n",
              "      <td>0.011313</td>\n",
              "    </tr>\n",
              "    <tr>\n",
              "      <th>2</th>\n",
              "      <td>A549</td>\n",
              "      <td>ENST00000314888</td>\n",
              "      <td>3452</td>\n",
              "      <td>701519886</td>\n",
              "      <td>701520209</td>\n",
              "      <td>3</td>\n",
              "      <td>0.004106</td>\n",
              "      <td>5.399771</td>\n",
              "      <td>117.166667</td>\n",
              "      <td>0.004066</td>\n",
              "      <td>...</td>\n",
              "      <td>0.166667</td>\n",
              "      <td>0.0</td>\n",
              "      <td>0.00</td>\n",
              "      <td>0.25</td>\n",
              "      <td>0.25</td>\n",
              "      <td>0.00</td>\n",
              "      <td>0.25</td>\n",
              "      <td>0.511111</td>\n",
              "      <td>0.123943</td>\n",
              "      <td>0.287240</td>\n",
              "    </tr>\n",
              "    <tr>\n",
              "      <th>3</th>\n",
              "      <td>A549</td>\n",
              "      <td>ENST00000330387</td>\n",
              "      <td>4761</td>\n",
              "      <td>705936980</td>\n",
              "      <td>705937181</td>\n",
              "      <td>2</td>\n",
              "      <td>0.006140</td>\n",
              "      <td>6.374500</td>\n",
              "      <td>103.500000</td>\n",
              "      <td>0.009416</td>\n",
              "      <td>...</td>\n",
              "      <td>0.000000</td>\n",
              "      <td>0.0</td>\n",
              "      <td>0.50</td>\n",
              "      <td>0.00</td>\n",
              "      <td>0.25</td>\n",
              "      <td>0.00</td>\n",
              "      <td>0.00</td>\n",
              "      <td>0.666667</td>\n",
              "      <td>0.128214</td>\n",
              "      <td>0.004840</td>\n",
              "    </tr>\n",
              "    <tr>\n",
              "      <th>4</th>\n",
              "      <td>A549</td>\n",
              "      <td>ENST00000391411</td>\n",
              "      <td>6156</td>\n",
              "      <td>159215334</td>\n",
              "      <td>159215547</td>\n",
              "      <td>2</td>\n",
              "      <td>0.006267</td>\n",
              "      <td>1.223535</td>\n",
              "      <td>90.300000</td>\n",
              "      <td>0.004827</td>\n",
              "      <td>...</td>\n",
              "      <td>0.000000</td>\n",
              "      <td>0.0</td>\n",
              "      <td>0.50</td>\n",
              "      <td>0.00</td>\n",
              "      <td>0.00</td>\n",
              "      <td>0.00</td>\n",
              "      <td>0.00</td>\n",
              "      <td>0.583333</td>\n",
              "      <td>0.129286</td>\n",
              "      <td>0.000879</td>\n",
              "    </tr>\n",
              "    <tr>\n",
              "      <th>...</th>\n",
              "      <td>...</td>\n",
              "      <td>...</td>\n",
              "      <td>...</td>\n",
              "      <td>...</td>\n",
              "      <td>...</td>\n",
              "      <td>...</td>\n",
              "      <td>...</td>\n",
              "      <td>...</td>\n",
              "      <td>...</td>\n",
              "      <td>...</td>\n",
              "      <td>...</td>\n",
              "      <td>...</td>\n",
              "      <td>...</td>\n",
              "      <td>...</td>\n",
              "      <td>...</td>\n",
              "      <td>...</td>\n",
              "      <td>...</td>\n",
              "      <td>...</td>\n",
              "      <td>...</td>\n",
              "      <td>...</td>\n",
              "      <td>...</td>\n",
              "    </tr>\n",
              "    <tr>\n",
              "      <th>2664065</th>\n",
              "      <td>HepG2</td>\n",
              "      <td>ENST00000595661</td>\n",
              "      <td>535</td>\n",
              "      <td>676623619</td>\n",
              "      <td>676624056</td>\n",
              "      <td>4</td>\n",
              "      <td>0.008062</td>\n",
              "      <td>2.623278</td>\n",
              "      <td>120.900000</td>\n",
              "      <td>0.010874</td>\n",
              "      <td>...</td>\n",
              "      <td>0.166667</td>\n",
              "      <td>0.0</td>\n",
              "      <td>0.00</td>\n",
              "      <td>0.25</td>\n",
              "      <td>0.00</td>\n",
              "      <td>0.25</td>\n",
              "      <td>0.25</td>\n",
              "      <td>0.511111</td>\n",
              "      <td>0.117386</td>\n",
              "      <td>0.031007</td>\n",
              "    </tr>\n",
              "    <tr>\n",
              "      <th>2664066</th>\n",
              "      <td>HepG2</td>\n",
              "      <td>ENST00000509967</td>\n",
              "      <td>4822</td>\n",
              "      <td>2066753654</td>\n",
              "      <td>2066753772</td>\n",
              "      <td>1</td>\n",
              "      <td>0.003980</td>\n",
              "      <td>4.037000</td>\n",
              "      <td>129.500000</td>\n",
              "      <td>0.011961</td>\n",
              "      <td>...</td>\n",
              "      <td>0.166667</td>\n",
              "      <td>0.0</td>\n",
              "      <td>0.00</td>\n",
              "      <td>0.25</td>\n",
              "      <td>0.25</td>\n",
              "      <td>0.25</td>\n",
              "      <td>0.00</td>\n",
              "      <td>0.511111</td>\n",
              "      <td>0.123871</td>\n",
              "      <td>0.001654</td>\n",
              "    </tr>\n",
              "    <tr>\n",
              "      <th>2664067</th>\n",
              "      <td>HepG2</td>\n",
              "      <td>ENST00000569636</td>\n",
              "      <td>640</td>\n",
              "      <td>882255390</td>\n",
              "      <td>882255543</td>\n",
              "      <td>1</td>\n",
              "      <td>0.004980</td>\n",
              "      <td>2.636000</td>\n",
              "      <td>117.700000</td>\n",
              "      <td>0.003233</td>\n",
              "      <td>...</td>\n",
              "      <td>0.000000</td>\n",
              "      <td>0.0</td>\n",
              "      <td>0.00</td>\n",
              "      <td>0.00</td>\n",
              "      <td>0.25</td>\n",
              "      <td>0.00</td>\n",
              "      <td>0.50</td>\n",
              "      <td>0.583333</td>\n",
              "      <td>0.117529</td>\n",
              "      <td>0.303932</td>\n",
              "    </tr>\n",
              "    <tr>\n",
              "      <th>2664068</th>\n",
              "      <td>HepG2</td>\n",
              "      <td>ENST00000571589</td>\n",
              "      <td>5826</td>\n",
              "      <td>660453008</td>\n",
              "      <td>660453211</td>\n",
              "      <td>2</td>\n",
              "      <td>0.002990</td>\n",
              "      <td>3.336000</td>\n",
              "      <td>117.500000</td>\n",
              "      <td>0.005761</td>\n",
              "      <td>...</td>\n",
              "      <td>0.000000</td>\n",
              "      <td>0.0</td>\n",
              "      <td>0.50</td>\n",
              "      <td>0.00</td>\n",
              "      <td>0.25</td>\n",
              "      <td>0.00</td>\n",
              "      <td>0.00</td>\n",
              "      <td>0.600000</td>\n",
              "      <td>0.120657</td>\n",
              "      <td>0.252910</td>\n",
              "    </tr>\n",
              "    <tr>\n",
              "      <th>2664069</th>\n",
              "      <td>HepG2</td>\n",
              "      <td>ENST00000392108</td>\n",
              "      <td>3600</td>\n",
              "      <td>1309463977</td>\n",
              "      <td>1309464136</td>\n",
              "      <td>1</td>\n",
              "      <td>0.005993</td>\n",
              "      <td>6.455472</td>\n",
              "      <td>115.000000</td>\n",
              "      <td>0.009132</td>\n",
              "      <td>...</td>\n",
              "      <td>0.000000</td>\n",
              "      <td>0.0</td>\n",
              "      <td>0.25</td>\n",
              "      <td>0.00</td>\n",
              "      <td>0.25</td>\n",
              "      <td>0.00</td>\n",
              "      <td>0.25</td>\n",
              "      <td>0.511111</td>\n",
              "      <td>0.122871</td>\n",
              "      <td>0.020533</td>\n",
              "    </tr>\n",
              "  </tbody>\n",
              "</table>\n",
              "<p>2664070 rows × 48 columns</p>\n",
              "</div>"
            ],
            "text/plain": [
              "        cell_line    transcript_id  transcript_position       start  \\\n",
              "0            A549  ENST00000547665                  559   760859491   \n",
              "1            A549  ENST00000450744                  889   710329043   \n",
              "2            A549  ENST00000314888                 3452   701519886   \n",
              "3            A549  ENST00000330387                 4761   705936980   \n",
              "4            A549  ENST00000391411                 6156   159215334   \n",
              "...           ...              ...                  ...         ...   \n",
              "2664065     HepG2  ENST00000595661                  535   676623619   \n",
              "2664066     HepG2  ENST00000509967                 4822  2066753654   \n",
              "2664067     HepG2  ENST00000569636                  640   882255390   \n",
              "2664068     HepG2  ENST00000571589                 5826   660453008   \n",
              "2664069     HepG2  ENST00000392108                 3600  1309463977   \n",
              "\n",
              "                end  n_reads  dwelling_t-1     sd_-1     mean_-1  dwelling_t0  \\\n",
              "0         760859690        2      0.006289  3.765678  110.700000     0.020420   \n",
              "1         710329335        2      0.009228  5.604509  116.700000     0.010925   \n",
              "2         701520209        3      0.004106  5.399771  117.166667     0.004066   \n",
              "3         705937181        2      0.006140  6.374500  103.500000     0.009416   \n",
              "4         159215547        2      0.006267  1.223535   90.300000     0.004827   \n",
              "...             ...      ...           ...       ...         ...          ...   \n",
              "2664065   676624056        4      0.008062  2.623278  120.900000     0.010874   \n",
              "2664066  2066753772        1      0.003980  4.037000  129.500000     0.011961   \n",
              "2664067   882255543        1      0.004980  2.636000  117.700000     0.003233   \n",
              "2664068   660453211        2      0.002990  3.336000  117.500000     0.005761   \n",
              "2664069  1309464136        1      0.005993  6.455472  115.000000     0.009132   \n",
              "\n",
              "         ...    knf_CT  knf_CG  cksnap_AA  cksnap_AT  cksnap_AC  cksnap_GT  \\\n",
              "0        ...  0.000000     0.0       0.00       0.00       0.75       0.00   \n",
              "1        ...  0.000000     0.0       0.00       0.00       0.25       0.00   \n",
              "2        ...  0.166667     0.0       0.00       0.25       0.25       0.00   \n",
              "3        ...  0.000000     0.0       0.50       0.00       0.25       0.00   \n",
              "4        ...  0.000000     0.0       0.50       0.00       0.00       0.00   \n",
              "...      ...       ...     ...        ...        ...        ...        ...   \n",
              "2664065  ...  0.166667     0.0       0.00       0.25       0.00       0.25   \n",
              "2664066  ...  0.166667     0.0       0.00       0.25       0.25       0.25   \n",
              "2664067  ...  0.000000     0.0       0.00       0.00       0.25       0.00   \n",
              "2664068  ...  0.000000     0.0       0.50       0.00       0.25       0.00   \n",
              "2664069  ...  0.000000     0.0       0.25       0.00       0.25       0.00   \n",
              "\n",
              "         cksnap_GC    js_all      eiip  prediction  \n",
              "0             0.00  0.666667  0.122943    0.009351  \n",
              "1             0.25  0.666667  0.108829    0.011313  \n",
              "2             0.25  0.511111  0.123943    0.287240  \n",
              "3             0.00  0.666667  0.128214    0.004840  \n",
              "4             0.00  0.583333  0.129286    0.000879  \n",
              "...            ...       ...       ...         ...  \n",
              "2664065       0.25  0.511111  0.117386    0.031007  \n",
              "2664066       0.00  0.511111  0.123871    0.001654  \n",
              "2664067       0.50  0.583333  0.117529    0.303932  \n",
              "2664068       0.00  0.600000  0.120657    0.252910  \n",
              "2664069       0.25  0.511111  0.122871    0.020533  \n",
              "\n",
              "[2664070 rows x 48 columns]"
            ]
          },
          "execution_count": 13,
          "metadata": {},
          "output_type": "execute_result"
        }
      ],
      "source": [
        "import seaborn as sns\n",
        "import pandas as pd\n",
        "import numpy as np\n",
        "import matplotlib.pyplot as plt\n",
        "\n",
        "#df = pd.read_csv(\"drive/MyDrive/compiled_df.csv\")\n",
        "df = pd.read_csv(\"/Users/shaun/Desktop/compiled_df.csv\")\n",
        "df"
      ]
    },
    {
      "cell_type": "code",
      "execution_count": 2,
      "metadata": {
        "colab": {
          "base_uri": "https://localhost:8080/"
        },
        "id": "1VbsgQWxHu1u",
        "outputId": "9d498f3a-9622-42bf-b7bf-fbc042ab9131"
      },
      "outputs": [
        {
          "data": {
            "text/plain": [
              "0.03715855814599466"
            ]
          },
          "execution_count": 2,
          "metadata": {},
          "output_type": "execute_result"
        }
      ],
      "source": [
        "a, b = (df['prediction'] > 0.5).value_counts()\n",
        "b/(a+b)"
      ]
    },
    {
      "cell_type": "code",
      "execution_count": 16,
      "metadata": {
        "colab": {
          "base_uri": "https://localhost:8080/",
          "height": 461
        },
        "id": "coJsWsRYHxHe",
        "outputId": "3e31ad37-13a2-47e3-d042-4c5bb3f549b1"
      },
      "outputs": [
        {
          "data": {
            "text/html": [
              "<div>\n",
              "<style scoped>\n",
              "    .dataframe tbody tr th:only-of-type {\n",
              "        vertical-align: middle;\n",
              "    }\n",
              "\n",
              "    .dataframe tbody tr th {\n",
              "        vertical-align: top;\n",
              "    }\n",
              "\n",
              "    .dataframe thead th {\n",
              "        text-align: right;\n",
              "    }\n",
              "</style>\n",
              "<table border=\"1\" class=\"dataframe\">\n",
              "  <thead>\n",
              "    <tr style=\"text-align: right;\">\n",
              "      <th></th>\n",
              "      <th>cell_line</th>\n",
              "      <th>transcript_id</th>\n",
              "      <th>transcript_position</th>\n",
              "      <th>start</th>\n",
              "      <th>end</th>\n",
              "      <th>n_reads</th>\n",
              "      <th>dwelling_t-1</th>\n",
              "      <th>sd_-1</th>\n",
              "      <th>mean_-1</th>\n",
              "      <th>dwelling_t0</th>\n",
              "      <th>...</th>\n",
              "      <th>knf_CG</th>\n",
              "      <th>cksnap_AA</th>\n",
              "      <th>cksnap_AT</th>\n",
              "      <th>cksnap_AC</th>\n",
              "      <th>cksnap_GT</th>\n",
              "      <th>cksnap_GC</th>\n",
              "      <th>js_all</th>\n",
              "      <th>eiip</th>\n",
              "      <th>prediction</th>\n",
              "      <th>label</th>\n",
              "    </tr>\n",
              "  </thead>\n",
              "  <tbody>\n",
              "    <tr>\n",
              "      <th>0</th>\n",
              "      <td>A549</td>\n",
              "      <td>ENST00000547665</td>\n",
              "      <td>559</td>\n",
              "      <td>760859491</td>\n",
              "      <td>760859690</td>\n",
              "      <td>2</td>\n",
              "      <td>0.006289</td>\n",
              "      <td>3.765678</td>\n",
              "      <td>110.700000</td>\n",
              "      <td>0.020420</td>\n",
              "      <td>...</td>\n",
              "      <td>0.0</td>\n",
              "      <td>0.00</td>\n",
              "      <td>0.00</td>\n",
              "      <td>0.75</td>\n",
              "      <td>0.00</td>\n",
              "      <td>0.00</td>\n",
              "      <td>0.666667</td>\n",
              "      <td>0.122943</td>\n",
              "      <td>0.009351</td>\n",
              "      <td>0</td>\n",
              "    </tr>\n",
              "    <tr>\n",
              "      <th>1</th>\n",
              "      <td>A549</td>\n",
              "      <td>ENST00000450744</td>\n",
              "      <td>889</td>\n",
              "      <td>710329043</td>\n",
              "      <td>710329335</td>\n",
              "      <td>2</td>\n",
              "      <td>0.009228</td>\n",
              "      <td>5.604509</td>\n",
              "      <td>116.700000</td>\n",
              "      <td>0.010925</td>\n",
              "      <td>...</td>\n",
              "      <td>0.0</td>\n",
              "      <td>0.00</td>\n",
              "      <td>0.00</td>\n",
              "      <td>0.25</td>\n",
              "      <td>0.00</td>\n",
              "      <td>0.25</td>\n",
              "      <td>0.666667</td>\n",
              "      <td>0.108829</td>\n",
              "      <td>0.011313</td>\n",
              "      <td>0</td>\n",
              "    </tr>\n",
              "    <tr>\n",
              "      <th>2</th>\n",
              "      <td>A549</td>\n",
              "      <td>ENST00000314888</td>\n",
              "      <td>3452</td>\n",
              "      <td>701519886</td>\n",
              "      <td>701520209</td>\n",
              "      <td>3</td>\n",
              "      <td>0.004106</td>\n",
              "      <td>5.399771</td>\n",
              "      <td>117.166667</td>\n",
              "      <td>0.004066</td>\n",
              "      <td>...</td>\n",
              "      <td>0.0</td>\n",
              "      <td>0.00</td>\n",
              "      <td>0.25</td>\n",
              "      <td>0.25</td>\n",
              "      <td>0.00</td>\n",
              "      <td>0.25</td>\n",
              "      <td>0.511111</td>\n",
              "      <td>0.123943</td>\n",
              "      <td>0.287240</td>\n",
              "      <td>0</td>\n",
              "    </tr>\n",
              "    <tr>\n",
              "      <th>3</th>\n",
              "      <td>A549</td>\n",
              "      <td>ENST00000330387</td>\n",
              "      <td>4761</td>\n",
              "      <td>705936980</td>\n",
              "      <td>705937181</td>\n",
              "      <td>2</td>\n",
              "      <td>0.006140</td>\n",
              "      <td>6.374500</td>\n",
              "      <td>103.500000</td>\n",
              "      <td>0.009416</td>\n",
              "      <td>...</td>\n",
              "      <td>0.0</td>\n",
              "      <td>0.50</td>\n",
              "      <td>0.00</td>\n",
              "      <td>0.25</td>\n",
              "      <td>0.00</td>\n",
              "      <td>0.00</td>\n",
              "      <td>0.666667</td>\n",
              "      <td>0.128214</td>\n",
              "      <td>0.004840</td>\n",
              "      <td>0</td>\n",
              "    </tr>\n",
              "    <tr>\n",
              "      <th>4</th>\n",
              "      <td>A549</td>\n",
              "      <td>ENST00000391411</td>\n",
              "      <td>6156</td>\n",
              "      <td>159215334</td>\n",
              "      <td>159215547</td>\n",
              "      <td>2</td>\n",
              "      <td>0.006267</td>\n",
              "      <td>1.223535</td>\n",
              "      <td>90.300000</td>\n",
              "      <td>0.004827</td>\n",
              "      <td>...</td>\n",
              "      <td>0.0</td>\n",
              "      <td>0.50</td>\n",
              "      <td>0.00</td>\n",
              "      <td>0.00</td>\n",
              "      <td>0.00</td>\n",
              "      <td>0.00</td>\n",
              "      <td>0.583333</td>\n",
              "      <td>0.129286</td>\n",
              "      <td>0.000879</td>\n",
              "      <td>0</td>\n",
              "    </tr>\n",
              "    <tr>\n",
              "      <th>...</th>\n",
              "      <td>...</td>\n",
              "      <td>...</td>\n",
              "      <td>...</td>\n",
              "      <td>...</td>\n",
              "      <td>...</td>\n",
              "      <td>...</td>\n",
              "      <td>...</td>\n",
              "      <td>...</td>\n",
              "      <td>...</td>\n",
              "      <td>...</td>\n",
              "      <td>...</td>\n",
              "      <td>...</td>\n",
              "      <td>...</td>\n",
              "      <td>...</td>\n",
              "      <td>...</td>\n",
              "      <td>...</td>\n",
              "      <td>...</td>\n",
              "      <td>...</td>\n",
              "      <td>...</td>\n",
              "      <td>...</td>\n",
              "      <td>...</td>\n",
              "    </tr>\n",
              "    <tr>\n",
              "      <th>2664065</th>\n",
              "      <td>HepG2</td>\n",
              "      <td>ENST00000595661</td>\n",
              "      <td>535</td>\n",
              "      <td>676623619</td>\n",
              "      <td>676624056</td>\n",
              "      <td>4</td>\n",
              "      <td>0.008062</td>\n",
              "      <td>2.623278</td>\n",
              "      <td>120.900000</td>\n",
              "      <td>0.010874</td>\n",
              "      <td>...</td>\n",
              "      <td>0.0</td>\n",
              "      <td>0.00</td>\n",
              "      <td>0.25</td>\n",
              "      <td>0.00</td>\n",
              "      <td>0.25</td>\n",
              "      <td>0.25</td>\n",
              "      <td>0.511111</td>\n",
              "      <td>0.117386</td>\n",
              "      <td>0.031007</td>\n",
              "      <td>0</td>\n",
              "    </tr>\n",
              "    <tr>\n",
              "      <th>2664066</th>\n",
              "      <td>HepG2</td>\n",
              "      <td>ENST00000509967</td>\n",
              "      <td>4822</td>\n",
              "      <td>2066753654</td>\n",
              "      <td>2066753772</td>\n",
              "      <td>1</td>\n",
              "      <td>0.003980</td>\n",
              "      <td>4.037000</td>\n",
              "      <td>129.500000</td>\n",
              "      <td>0.011961</td>\n",
              "      <td>...</td>\n",
              "      <td>0.0</td>\n",
              "      <td>0.00</td>\n",
              "      <td>0.25</td>\n",
              "      <td>0.25</td>\n",
              "      <td>0.25</td>\n",
              "      <td>0.00</td>\n",
              "      <td>0.511111</td>\n",
              "      <td>0.123871</td>\n",
              "      <td>0.001654</td>\n",
              "      <td>0</td>\n",
              "    </tr>\n",
              "    <tr>\n",
              "      <th>2664067</th>\n",
              "      <td>HepG2</td>\n",
              "      <td>ENST00000569636</td>\n",
              "      <td>640</td>\n",
              "      <td>882255390</td>\n",
              "      <td>882255543</td>\n",
              "      <td>1</td>\n",
              "      <td>0.004980</td>\n",
              "      <td>2.636000</td>\n",
              "      <td>117.700000</td>\n",
              "      <td>0.003233</td>\n",
              "      <td>...</td>\n",
              "      <td>0.0</td>\n",
              "      <td>0.00</td>\n",
              "      <td>0.00</td>\n",
              "      <td>0.25</td>\n",
              "      <td>0.00</td>\n",
              "      <td>0.50</td>\n",
              "      <td>0.583333</td>\n",
              "      <td>0.117529</td>\n",
              "      <td>0.303932</td>\n",
              "      <td>0</td>\n",
              "    </tr>\n",
              "    <tr>\n",
              "      <th>2664068</th>\n",
              "      <td>HepG2</td>\n",
              "      <td>ENST00000571589</td>\n",
              "      <td>5826</td>\n",
              "      <td>660453008</td>\n",
              "      <td>660453211</td>\n",
              "      <td>2</td>\n",
              "      <td>0.002990</td>\n",
              "      <td>3.336000</td>\n",
              "      <td>117.500000</td>\n",
              "      <td>0.005761</td>\n",
              "      <td>...</td>\n",
              "      <td>0.0</td>\n",
              "      <td>0.50</td>\n",
              "      <td>0.00</td>\n",
              "      <td>0.25</td>\n",
              "      <td>0.00</td>\n",
              "      <td>0.00</td>\n",
              "      <td>0.600000</td>\n",
              "      <td>0.120657</td>\n",
              "      <td>0.252910</td>\n",
              "      <td>0</td>\n",
              "    </tr>\n",
              "    <tr>\n",
              "      <th>2664069</th>\n",
              "      <td>HepG2</td>\n",
              "      <td>ENST00000392108</td>\n",
              "      <td>3600</td>\n",
              "      <td>1309463977</td>\n",
              "      <td>1309464136</td>\n",
              "      <td>1</td>\n",
              "      <td>0.005993</td>\n",
              "      <td>6.455472</td>\n",
              "      <td>115.000000</td>\n",
              "      <td>0.009132</td>\n",
              "      <td>...</td>\n",
              "      <td>0.0</td>\n",
              "      <td>0.25</td>\n",
              "      <td>0.00</td>\n",
              "      <td>0.25</td>\n",
              "      <td>0.00</td>\n",
              "      <td>0.25</td>\n",
              "      <td>0.511111</td>\n",
              "      <td>0.122871</td>\n",
              "      <td>0.020533</td>\n",
              "      <td>0</td>\n",
              "    </tr>\n",
              "  </tbody>\n",
              "</table>\n",
              "<p>2664070 rows × 49 columns</p>\n",
              "</div>"
            ],
            "text/plain": [
              "        cell_line    transcript_id  transcript_position       start  \\\n",
              "0            A549  ENST00000547665                  559   760859491   \n",
              "1            A549  ENST00000450744                  889   710329043   \n",
              "2            A549  ENST00000314888                 3452   701519886   \n",
              "3            A549  ENST00000330387                 4761   705936980   \n",
              "4            A549  ENST00000391411                 6156   159215334   \n",
              "...           ...              ...                  ...         ...   \n",
              "2664065     HepG2  ENST00000595661                  535   676623619   \n",
              "2664066     HepG2  ENST00000509967                 4822  2066753654   \n",
              "2664067     HepG2  ENST00000569636                  640   882255390   \n",
              "2664068     HepG2  ENST00000571589                 5826   660453008   \n",
              "2664069     HepG2  ENST00000392108                 3600  1309463977   \n",
              "\n",
              "                end  n_reads  dwelling_t-1     sd_-1     mean_-1  dwelling_t0  \\\n",
              "0         760859690        2      0.006289  3.765678  110.700000     0.020420   \n",
              "1         710329335        2      0.009228  5.604509  116.700000     0.010925   \n",
              "2         701520209        3      0.004106  5.399771  117.166667     0.004066   \n",
              "3         705937181        2      0.006140  6.374500  103.500000     0.009416   \n",
              "4         159215547        2      0.006267  1.223535   90.300000     0.004827   \n",
              "...             ...      ...           ...       ...         ...          ...   \n",
              "2664065   676624056        4      0.008062  2.623278  120.900000     0.010874   \n",
              "2664066  2066753772        1      0.003980  4.037000  129.500000     0.011961   \n",
              "2664067   882255543        1      0.004980  2.636000  117.700000     0.003233   \n",
              "2664068   660453211        2      0.002990  3.336000  117.500000     0.005761   \n",
              "2664069  1309464136        1      0.005993  6.455472  115.000000     0.009132   \n",
              "\n",
              "         ...  knf_CG  cksnap_AA  cksnap_AT  cksnap_AC  cksnap_GT  cksnap_GC  \\\n",
              "0        ...     0.0       0.00       0.00       0.75       0.00       0.00   \n",
              "1        ...     0.0       0.00       0.00       0.25       0.00       0.25   \n",
              "2        ...     0.0       0.00       0.25       0.25       0.00       0.25   \n",
              "3        ...     0.0       0.50       0.00       0.25       0.00       0.00   \n",
              "4        ...     0.0       0.50       0.00       0.00       0.00       0.00   \n",
              "...      ...     ...        ...        ...        ...        ...        ...   \n",
              "2664065  ...     0.0       0.00       0.25       0.00       0.25       0.25   \n",
              "2664066  ...     0.0       0.00       0.25       0.25       0.25       0.00   \n",
              "2664067  ...     0.0       0.00       0.00       0.25       0.00       0.50   \n",
              "2664068  ...     0.0       0.50       0.00       0.25       0.00       0.00   \n",
              "2664069  ...     0.0       0.25       0.00       0.25       0.00       0.25   \n",
              "\n",
              "           js_all      eiip  prediction  label  \n",
              "0        0.666667  0.122943    0.009351      0  \n",
              "1        0.666667  0.108829    0.011313      0  \n",
              "2        0.511111  0.123943    0.287240      0  \n",
              "3        0.666667  0.128214    0.004840      0  \n",
              "4        0.583333  0.129286    0.000879      0  \n",
              "...           ...       ...         ...    ...  \n",
              "2664065  0.511111  0.117386    0.031007      0  \n",
              "2664066  0.511111  0.123871    0.001654      0  \n",
              "2664067  0.583333  0.117529    0.303932      0  \n",
              "2664068  0.600000  0.120657    0.252910      0  \n",
              "2664069  0.511111  0.122871    0.020533      0  \n",
              "\n",
              "[2664070 rows x 49 columns]"
            ]
          },
          "execution_count": 16,
          "metadata": {},
          "output_type": "execute_result"
        }
      ],
      "source": [
        "df['label'] = df['prediction'].apply(lambda x: 1 if x > 0.5 else 0)\n",
        "df"
      ]
    },
    {
      "cell_type": "code",
      "execution_count": 4,
      "metadata": {
        "colab": {
          "base_uri": "https://localhost:8080/"
        },
        "id": "16txpU5SHyrf",
        "outputId": "cc584fa9-1ef2-453d-ab2f-b18ae717cd43"
      },
      "outputs": [
        {
          "data": {
            "text/plain": [
              "Index(['cell_line', 'transcript_id', 'transcript_position', 'start', 'end',\n",
              "       'n_reads', 'dwelling_t-1', 'sd_-1', 'mean_-1', 'dwelling_t0', 'sd_0',\n",
              "       'mean_0', 'dwelling_t1', 'sd_1', 'mean_1', 'nucleo_-3_A', 'nucleo_-3_G',\n",
              "       'nucleo_-3_T', 'nucleo_-2_A', 'nucleo_-2_G', 'nucleo_-1_G',\n",
              "       'nucleo_2_C', 'nucleo_2_T', 'nucleo_2_A', 'nucleo_3_A', 'nucleo_3_G',\n",
              "       'nucleo_3_T', 'nucleo_3_C', 'pwm_score', 'knf_AA', 'knf_AG', 'knf_AT',\n",
              "       'knf_AC', 'knf_GG', 'knf_TT', 'knf_TA', 'knf_TG', 'knf_CA', 'knf_CT',\n",
              "       'knf_CG', 'cksnap_AA', 'cksnap_AT', 'cksnap_AC', 'cksnap_GT',\n",
              "       'cksnap_GC', 'js_all', 'eiip', 'prediction', 'label'],\n",
              "      dtype='object')"
            ]
          },
          "execution_count": 4,
          "metadata": {},
          "output_type": "execute_result"
        }
      ],
      "source": [
        "df.columns"
      ]
    },
    {
      "cell_type": "code",
      "execution_count": 5,
      "metadata": {
        "colab": {
          "base_uri": "https://localhost:8080/",
          "height": 468
        },
        "id": "Y9r2FUnfH0cx",
        "outputId": "fdd04df5-2cb8-490c-f787-7b9b321bf5f8"
      },
      "outputs": [
        {
          "data": {
            "text/plain": [
              "<Axes: xlabel='cell_line', ylabel='mean_0'>"
            ]
          },
          "execution_count": 5,
          "metadata": {},
          "output_type": "execute_result"
        },
        {
          "data": {
            "image/png": "[encoded data removed]",
            "text/plain": [
              "<Figure size 432x288 with 1 Axes>"
            ]
          },
          "metadata": {
            "needs_background": "light"
          },
          "output_type": "display_data"
        }
      ],
      "source": [
        "sns.boxplot(x='cell_line', y='mean_0', hue = 'label', data=df)"
      ]
    },
    {
      "cell_type": "code",
      "execution_count": 6,
      "metadata": {
        "colab": {
          "base_uri": "https://localhost:8080/",
          "height": 325
        },
        "id": "s41HmBVcH3fk",
        "outputId": "502d4ada-25c7-4297-b8db-06d082df0317"
      },
      "outputs": [
        {
          "name": "stderr",
          "output_type": "stream",
          "text": [
            "/Users/shaun/opt/anaconda3/lib/python3.8/site-packages/seaborn/axisgrid.py:854: FutureWarning: \n",
            "\n",
            "Setting a gradient palette using color= is deprecated and will be removed in v0.14.0. Set `palette='dark:#1f77b4'` for the same effect.\n",
            "\n",
            "  func(*plot_args, **plot_kwargs)\n",
            "/Users/shaun/opt/anaconda3/lib/python3.8/site-packages/seaborn/axisgrid.py:854: FutureWarning: \n",
            "\n",
            "Setting a gradient palette using color= is deprecated and will be removed in v0.14.0. Set `palette='dark:#1f77b4'` for the same effect.\n",
            "\n",
            "  func(*plot_args, **plot_kwargs)\n",
            "/Users/shaun/opt/anaconda3/lib/python3.8/site-packages/seaborn/axisgrid.py:854: FutureWarning: \n",
            "\n",
            "Setting a gradient palette using color= is deprecated and will be removed in v0.14.0. Set `palette='dark:#1f77b4'` for the same effect.\n",
            "\n",
            "  func(*plot_args, **plot_kwargs)\n"
          ]
        },
        {
          "data": {
            "text/plain": [
              "<seaborn.axisgrid.FacetGrid at 0x7feb9748b850>"
            ]
          },
          "execution_count": 6,
          "metadata": {},
          "output_type": "execute_result"
        },
        {
          "data": {
            "image/png": "[encoded data removed]",
            "text/plain": [
              "<Figure size 648x216 with 3 Axes>"
            ]
          },
          "metadata": {
            "needs_background": "light"
          },
          "output_type": "display_data"
        }
      ],
      "source": [
        "new_df = pd.melt(df, id_vars=['cell_line', 'transcript_id', 'transcript_position', 'label'], value_vars=['mean_-1', 'mean_0', 'mean_1'],\n",
        "        var_name='mean', value_name='signal')\n",
        "\n",
        "g = sns.FacetGrid(new_df, col = \"mean\")\n",
        "g.map_dataframe(sns.boxplot, x=\"cell_line\", y=\"signal\", hue = 'label')"
      ]
    },
    {
      "cell_type": "code",
      "execution_count": 7,
      "metadata": {
        "colab": {
          "base_uri": "https://localhost:8080/",
          "height": 325
        },
        "id": "prNakzBSIAuy",
        "outputId": "55b27081-87a7-4756-d5ce-ed5ce4549a85"
      },
      "outputs": [
        {
          "name": "stderr",
          "output_type": "stream",
          "text": [
            "/Users/shaun/opt/anaconda3/lib/python3.8/site-packages/seaborn/axisgrid.py:854: FutureWarning: \n",
            "\n",
            "Setting a gradient palette using color= is deprecated and will be removed in v0.14.0. Set `palette='dark:#1f77b4'` for the same effect.\n",
            "\n",
            "  func(*plot_args, **plot_kwargs)\n",
            "/Users/shaun/opt/anaconda3/lib/python3.8/site-packages/seaborn/axisgrid.py:854: FutureWarning: \n",
            "\n",
            "Setting a gradient palette using color= is deprecated and will be removed in v0.14.0. Set `palette='dark:#1f77b4'` for the same effect.\n",
            "\n",
            "  func(*plot_args, **plot_kwargs)\n",
            "/Users/shaun/opt/anaconda3/lib/python3.8/site-packages/seaborn/axisgrid.py:854: FutureWarning: \n",
            "\n",
            "Setting a gradient palette using color= is deprecated and will be removed in v0.14.0. Set `palette='dark:#1f77b4'` for the same effect.\n",
            "\n",
            "  func(*plot_args, **plot_kwargs)\n"
          ]
        },
        {
          "data": {
            "text/plain": [
              "<seaborn.axisgrid.FacetGrid at 0x7fecbac8ef40>"
            ]
          },
          "execution_count": 7,
          "metadata": {},
          "output_type": "execute_result"
        },
        {
          "data": {
            "image/png": "[encoded data removed]",
            "text/plain": [
              "<Figure size 648x216 with 3 Axes>"
            ]
          },
          "metadata": {
            "needs_background": "light"
          },
          "output_type": "display_data"
        }
      ],
      "source": [
        "new_df = pd.melt(df, id_vars=['cell_line', 'transcript_id', 'transcript_position', 'label'], value_vars=['sd_-1', 'sd_0', 'sd_1'],\n",
        "        var_name='sd', value_name='value')\n",
        "\n",
        "g = sns.FacetGrid(new_df, col = \"sd\")\n",
        "g.map_dataframe(sns.boxplot, x=\"cell_line\", y=\"value\", hue = 'label', showfliers=False)"
      ]
    },
    {
      "cell_type": "code",
      "execution_count": 8,
      "metadata": {
        "colab": {
          "base_uri": "https://localhost:8080/",
          "height": 325
        },
        "id": "Qj3b4qW1IHSc",
        "outputId": "6b1bdd0b-16d6-4a0b-b5ec-508db30720d1"
      },
      "outputs": [
        {
          "name": "stderr",
          "output_type": "stream",
          "text": [
            "/Users/shaun/opt/anaconda3/lib/python3.8/site-packages/seaborn/axisgrid.py:854: FutureWarning: \n",
            "\n",
            "Setting a gradient palette using color= is deprecated and will be removed in v0.14.0. Set `palette='dark:#1f77b4'` for the same effect.\n",
            "\n",
            "  func(*plot_args, **plot_kwargs)\n",
            "/Users/shaun/opt/anaconda3/lib/python3.8/site-packages/seaborn/axisgrid.py:854: FutureWarning: \n",
            "\n",
            "Setting a gradient palette using color= is deprecated and will be removed in v0.14.0. Set `palette='dark:#1f77b4'` for the same effect.\n",
            "\n",
            "  func(*plot_args, **plot_kwargs)\n",
            "/Users/shaun/opt/anaconda3/lib/python3.8/site-packages/seaborn/axisgrid.py:854: FutureWarning: \n",
            "\n",
            "Setting a gradient palette using color= is deprecated and will be removed in v0.14.0. Set `palette='dark:#1f77b4'` for the same effect.\n",
            "\n",
            "  func(*plot_args, **plot_kwargs)\n"
          ]
        },
        {
          "data": {
            "text/plain": [
              "<seaborn.axisgrid.FacetGrid at 0x7feb99a1f4c0>"
            ]
          },
          "execution_count": 8,
          "metadata": {},
          "output_type": "execute_result"
        },
        {
          "data": {
            "image/png": "[encoded data removed]",
            "text/plain": [
              "<Figure size 648x216 with 3 Axes>"
            ]
          },
          "metadata": {
            "needs_background": "light"
          },
          "output_type": "display_data"
        }
      ],
      "source": [
        "new_df = pd.melt(df, id_vars=['cell_line', 'transcript_id', 'transcript_position', 'label'], value_vars=['dwelling_t-1', 'dwelling_t0', 'dwelling_t1'],\n",
        "        var_name='time', value_name='value')\n",
        "\n",
        "g = sns.FacetGrid(new_df, col = \"time\")\n",
        "g.map_dataframe(sns.boxplot, x=\"cell_line\", y=\"value\", hue = 'label', showfliers=False)"
      ]
    },
    {
      "cell_type": "code",
      "execution_count": 9,
      "metadata": {
        "colab": {
          "base_uri": "https://localhost:8080/",
          "height": 467
        },
        "id": "bLw5jY_kH5C6",
        "outputId": "97014b61-a85f-41db-a82c-9e4dfdaa8349"
      },
      "outputs": [
        {
          "data": {
            "text/plain": [
              "<Axes: xlabel='prediction', ylabel='Density'>"
            ]
          },
          "execution_count": 9,
          "metadata": {},
          "output_type": "execute_result"
        },
        {
          "data": {
            "image/png": "[encoded data removed]",
            "text/plain": [
              "<Figure size 432x288 with 1 Axes>"
            ]
          },
          "metadata": {
            "needs_background": "light"
          },
          "output_type": "display_data"
        }
      ],
      "source": [
        "sns.kdeplot(data=df, x='prediction', hue='cell_line', fill=True, common_norm= True)"
      ]
    },
    {
      "cell_type": "code",
      "execution_count": 10,
      "metadata": {
        "colab": {
          "base_uri": "https://localhost:8080/",
          "height": 468
        },
        "id": "72W2vgKnH6VS",
        "outputId": "edd00552-e51a-493b-db30-4ab7b6c8d07a"
      },
      "outputs": [
        {
          "data": {
            "text/plain": [
              "<Axes: xlabel='cell_line', ylabel='eiip'>"
            ]
          },
          "execution_count": 10,
          "metadata": {},
          "output_type": "execute_result"
        },
        {
          "data": {
            "image/png": "[encoded data removed]",
            "text/plain": [
              "<Figure size 432x288 with 1 Axes>"
            ]
          },
          "metadata": {
            "needs_background": "light"
          },
          "output_type": "display_data"
        }
      ],
      "source": [
        "sns.boxplot(x='cell_line', y='eiip', hue = 'label', data=df)"
      ]
    },
    {
      "cell_type": "code",
      "execution_count": 11,
      "metadata": {
        "colab": {
          "base_uri": "https://localhost:8080/",
          "height": 468
        },
        "id": "5H5RIg3KH8Nu",
        "outputId": "d0678b58-2755-4e12-e6c1-8c2788a2eb69"
      },
      "outputs": [
        {
          "data": {
            "text/plain": [
              "<Axes: xlabel='cell_line', ylabel='pwm_score'>"
            ]
          },
          "execution_count": 11,
          "metadata": {},
          "output_type": "execute_result"
        },
        {
          "data": {
            "image/png": "[encoded data removed]",
            "text/plain": [
              "<Figure size 432x288 with 1 Axes>"
            ]
          },
          "metadata": {
            "needs_background": "light"
          },
          "output_type": "display_data"
        }
      ],
      "source": [
        "sns.boxplot(x='cell_line', y='pwm_score', hue = 'label', data=df)"
      ]
    },
    {
      "cell_type": "code",
      "execution_count": 15,
      "metadata": {},
      "outputs": [
        {
          "data": {
            "text/html": [
              "<div>\n",
              "<style scoped>\n",
              "    .dataframe tbody tr th:only-of-type {\n",
              "        vertical-align: middle;\n",
              "    }\n",
              "\n",
              "    .dataframe tbody tr th {\n",
              "        vertical-align: top;\n",
              "    }\n",
              "\n",
              "    .dataframe thead th {\n",
              "        text-align: right;\n",
              "    }\n",
              "</style>\n",
              "<table border=\"1\" class=\"dataframe\">\n",
              "  <thead>\n",
              "    <tr style=\"text-align: right;\">\n",
              "      <th></th>\n",
              "      <th>cell_line</th>\n",
              "      <th>transcript_id</th>\n",
              "      <th>transcript_position</th>\n",
              "      <th>start</th>\n",
              "      <th>end</th>\n",
              "      <th>n_reads</th>\n",
              "      <th>dwelling_t-1</th>\n",
              "      <th>sd_-1</th>\n",
              "      <th>mean_-1</th>\n",
              "      <th>dwelling_t0</th>\n",
              "      <th>...</th>\n",
              "      <th>knf_CT</th>\n",
              "      <th>knf_CG</th>\n",
              "      <th>cksnap_AA</th>\n",
              "      <th>cksnap_AT</th>\n",
              "      <th>cksnap_AC</th>\n",
              "      <th>cksnap_GT</th>\n",
              "      <th>cksnap_GC</th>\n",
              "      <th>js_all</th>\n",
              "      <th>eiip</th>\n",
              "      <th>prediction</th>\n",
              "    </tr>\n",
              "  </thead>\n",
              "  <tbody>\n",
              "    <tr>\n",
              "      <th>0</th>\n",
              "      <td>A549</td>\n",
              "      <td>ENST00000547665</td>\n",
              "      <td>559</td>\n",
              "      <td>760859491</td>\n",
              "      <td>760859690</td>\n",
              "      <td>2</td>\n",
              "      <td>0.006289</td>\n",
              "      <td>3.765678</td>\n",
              "      <td>110.700000</td>\n",
              "      <td>0.020420</td>\n",
              "      <td>...</td>\n",
              "      <td>0.000000</td>\n",
              "      <td>0.0</td>\n",
              "      <td>0.00</td>\n",
              "      <td>0.00</td>\n",
              "      <td>0.75</td>\n",
              "      <td>0.00</td>\n",
              "      <td>0.00</td>\n",
              "      <td>0.666667</td>\n",
              "      <td>0.122943</td>\n",
              "      <td>0.009351</td>\n",
              "    </tr>\n",
              "    <tr>\n",
              "      <th>1</th>\n",
              "      <td>A549</td>\n",
              "      <td>ENST00000450744</td>\n",
              "      <td>889</td>\n",
              "      <td>710329043</td>\n",
              "      <td>710329335</td>\n",
              "      <td>2</td>\n",
              "      <td>0.009228</td>\n",
              "      <td>5.604509</td>\n",
              "      <td>116.700000</td>\n",
              "      <td>0.010925</td>\n",
              "      <td>...</td>\n",
              "      <td>0.000000</td>\n",
              "      <td>0.0</td>\n",
              "      <td>0.00</td>\n",
              "      <td>0.00</td>\n",
              "      <td>0.25</td>\n",
              "      <td>0.00</td>\n",
              "      <td>0.25</td>\n",
              "      <td>0.666667</td>\n",
              "      <td>0.108829</td>\n",
              "      <td>0.011313</td>\n",
              "    </tr>\n",
              "    <tr>\n",
              "      <th>2</th>\n",
              "      <td>A549</td>\n",
              "      <td>ENST00000314888</td>\n",
              "      <td>3452</td>\n",
              "      <td>701519886</td>\n",
              "      <td>701520209</td>\n",
              "      <td>3</td>\n",
              "      <td>0.004106</td>\n",
              "      <td>5.399771</td>\n",
              "      <td>117.166667</td>\n",
              "      <td>0.004066</td>\n",
              "      <td>...</td>\n",
              "      <td>0.166667</td>\n",
              "      <td>0.0</td>\n",
              "      <td>0.00</td>\n",
              "      <td>0.25</td>\n",
              "      <td>0.25</td>\n",
              "      <td>0.00</td>\n",
              "      <td>0.25</td>\n",
              "      <td>0.511111</td>\n",
              "      <td>0.123943</td>\n",
              "      <td>0.287240</td>\n",
              "    </tr>\n",
              "    <tr>\n",
              "      <th>3</th>\n",
              "      <td>A549</td>\n",
              "      <td>ENST00000330387</td>\n",
              "      <td>4761</td>\n",
              "      <td>705936980</td>\n",
              "      <td>705937181</td>\n",
              "      <td>2</td>\n",
              "      <td>0.006140</td>\n",
              "      <td>6.374500</td>\n",
              "      <td>103.500000</td>\n",
              "      <td>0.009416</td>\n",
              "      <td>...</td>\n",
              "      <td>0.000000</td>\n",
              "      <td>0.0</td>\n",
              "      <td>0.50</td>\n",
              "      <td>0.00</td>\n",
              "      <td>0.25</td>\n",
              "      <td>0.00</td>\n",
              "      <td>0.00</td>\n",
              "      <td>0.666667</td>\n",
              "      <td>0.128214</td>\n",
              "      <td>0.004840</td>\n",
              "    </tr>\n",
              "    <tr>\n",
              "      <th>4</th>\n",
              "      <td>A549</td>\n",
              "      <td>ENST00000391411</td>\n",
              "      <td>6156</td>\n",
              "      <td>159215334</td>\n",
              "      <td>159215547</td>\n",
              "      <td>2</td>\n",
              "      <td>0.006267</td>\n",
              "      <td>1.223535</td>\n",
              "      <td>90.300000</td>\n",
              "      <td>0.004827</td>\n",
              "      <td>...</td>\n",
              "      <td>0.000000</td>\n",
              "      <td>0.0</td>\n",
              "      <td>0.50</td>\n",
              "      <td>0.00</td>\n",
              "      <td>0.00</td>\n",
              "      <td>0.00</td>\n",
              "      <td>0.00</td>\n",
              "      <td>0.583333</td>\n",
              "      <td>0.129286</td>\n",
              "      <td>0.000879</td>\n",
              "    </tr>\n",
              "    <tr>\n",
              "      <th>...</th>\n",
              "      <td>...</td>\n",
              "      <td>...</td>\n",
              "      <td>...</td>\n",
              "      <td>...</td>\n",
              "      <td>...</td>\n",
              "      <td>...</td>\n",
              "      <td>...</td>\n",
              "      <td>...</td>\n",
              "      <td>...</td>\n",
              "      <td>...</td>\n",
              "      <td>...</td>\n",
              "      <td>...</td>\n",
              "      <td>...</td>\n",
              "      <td>...</td>\n",
              "      <td>...</td>\n",
              "      <td>...</td>\n",
              "      <td>...</td>\n",
              "      <td>...</td>\n",
              "      <td>...</td>\n",
              "      <td>...</td>\n",
              "      <td>...</td>\n",
              "    </tr>\n",
              "    <tr>\n",
              "      <th>2664065</th>\n",
              "      <td>HepG2</td>\n",
              "      <td>ENST00000595661</td>\n",
              "      <td>535</td>\n",
              "      <td>676623619</td>\n",
              "      <td>676624056</td>\n",
              "      <td>4</td>\n",
              "      <td>0.008062</td>\n",
              "      <td>2.623278</td>\n",
              "      <td>120.900000</td>\n",
              "      <td>0.010874</td>\n",
              "      <td>...</td>\n",
              "      <td>0.166667</td>\n",
              "      <td>0.0</td>\n",
              "      <td>0.00</td>\n",
              "      <td>0.25</td>\n",
              "      <td>0.00</td>\n",
              "      <td>0.25</td>\n",
              "      <td>0.25</td>\n",
              "      <td>0.511111</td>\n",
              "      <td>0.117386</td>\n",
              "      <td>0.031007</td>\n",
              "    </tr>\n",
              "    <tr>\n",
              "      <th>2664066</th>\n",
              "      <td>HepG2</td>\n",
              "      <td>ENST00000509967</td>\n",
              "      <td>4822</td>\n",
              "      <td>2066753654</td>\n",
              "      <td>2066753772</td>\n",
              "      <td>1</td>\n",
              "      <td>0.003980</td>\n",
              "      <td>4.037000</td>\n",
              "      <td>129.500000</td>\n",
              "      <td>0.011961</td>\n",
              "      <td>...</td>\n",
              "      <td>0.166667</td>\n",
              "      <td>0.0</td>\n",
              "      <td>0.00</td>\n",
              "      <td>0.25</td>\n",
              "      <td>0.25</td>\n",
              "      <td>0.25</td>\n",
              "      <td>0.00</td>\n",
              "      <td>0.511111</td>\n",
              "      <td>0.123871</td>\n",
              "      <td>0.001654</td>\n",
              "    </tr>\n",
              "    <tr>\n",
              "      <th>2664067</th>\n",
              "      <td>HepG2</td>\n",
              "      <td>ENST00000569636</td>\n",
              "      <td>640</td>\n",
              "      <td>882255390</td>\n",
              "      <td>882255543</td>\n",
              "      <td>1</td>\n",
              "      <td>0.004980</td>\n",
              "      <td>2.636000</td>\n",
              "      <td>117.700000</td>\n",
              "      <td>0.003233</td>\n",
              "      <td>...</td>\n",
              "      <td>0.000000</td>\n",
              "      <td>0.0</td>\n",
              "      <td>0.00</td>\n",
              "      <td>0.00</td>\n",
              "      <td>0.25</td>\n",
              "      <td>0.00</td>\n",
              "      <td>0.50</td>\n",
              "      <td>0.583333</td>\n",
              "      <td>0.117529</td>\n",
              "      <td>0.303932</td>\n",
              "    </tr>\n",
              "    <tr>\n",
              "      <th>2664068</th>\n",
              "      <td>HepG2</td>\n",
              "      <td>ENST00000571589</td>\n",
              "      <td>5826</td>\n",
              "      <td>660453008</td>\n",
              "      <td>660453211</td>\n",
              "      <td>2</td>\n",
              "      <td>0.002990</td>\n",
              "      <td>3.336000</td>\n",
              "      <td>117.500000</td>\n",
              "      <td>0.005761</td>\n",
              "      <td>...</td>\n",
              "      <td>0.000000</td>\n",
              "      <td>0.0</td>\n",
              "      <td>0.50</td>\n",
              "      <td>0.00</td>\n",
              "      <td>0.25</td>\n",
              "      <td>0.00</td>\n",
              "      <td>0.00</td>\n",
              "      <td>0.600000</td>\n",
              "      <td>0.120657</td>\n",
              "      <td>0.252910</td>\n",
              "    </tr>\n",
              "    <tr>\n",
              "      <th>2664069</th>\n",
              "      <td>HepG2</td>\n",
              "      <td>ENST00000392108</td>\n",
              "      <td>3600</td>\n",
              "      <td>1309463977</td>\n",
              "      <td>1309464136</td>\n",
              "      <td>1</td>\n",
              "      <td>0.005993</td>\n",
              "      <td>6.455472</td>\n",
              "      <td>115.000000</td>\n",
              "      <td>0.009132</td>\n",
              "      <td>...</td>\n",
              "      <td>0.000000</td>\n",
              "      <td>0.0</td>\n",
              "      <td>0.25</td>\n",
              "      <td>0.00</td>\n",
              "      <td>0.25</td>\n",
              "      <td>0.00</td>\n",
              "      <td>0.25</td>\n",
              "      <td>0.511111</td>\n",
              "      <td>0.122871</td>\n",
              "      <td>0.020533</td>\n",
              "    </tr>\n",
              "  </tbody>\n",
              "</table>\n",
              "<p>2664070 rows × 48 columns</p>\n",
              "</div>"
            ],
            "text/plain": [
              "        cell_line    transcript_id  transcript_position       start  \\\n",
              "0            A549  ENST00000547665                  559   760859491   \n",
              "1            A549  ENST00000450744                  889   710329043   \n",
              "2            A549  ENST00000314888                 3452   701519886   \n",
              "3            A549  ENST00000330387                 4761   705936980   \n",
              "4            A549  ENST00000391411                 6156   159215334   \n",
              "...           ...              ...                  ...         ...   \n",
              "2664065     HepG2  ENST00000595661                  535   676623619   \n",
              "2664066     HepG2  ENST00000509967                 4822  2066753654   \n",
              "2664067     HepG2  ENST00000569636                  640   882255390   \n",
              "2664068     HepG2  ENST00000571589                 5826   660453008   \n",
              "2664069     HepG2  ENST00000392108                 3600  1309463977   \n",
              "\n",
              "                end  n_reads  dwelling_t-1     sd_-1     mean_-1  dwelling_t0  \\\n",
              "0         760859690        2      0.006289  3.765678  110.700000     0.020420   \n",
              "1         710329335        2      0.009228  5.604509  116.700000     0.010925   \n",
              "2         701520209        3      0.004106  5.399771  117.166667     0.004066   \n",
              "3         705937181        2      0.006140  6.374500  103.500000     0.009416   \n",
              "4         159215547        2      0.006267  1.223535   90.300000     0.004827   \n",
              "...             ...      ...           ...       ...         ...          ...   \n",
              "2664065   676624056        4      0.008062  2.623278  120.900000     0.010874   \n",
              "2664066  2066753772        1      0.003980  4.037000  129.500000     0.011961   \n",
              "2664067   882255543        1      0.004980  2.636000  117.700000     0.003233   \n",
              "2664068   660453211        2      0.002990  3.336000  117.500000     0.005761   \n",
              "2664069  1309464136        1      0.005993  6.455472  115.000000     0.009132   \n",
              "\n",
              "         ...    knf_CT  knf_CG  cksnap_AA  cksnap_AT  cksnap_AC  cksnap_GT  \\\n",
              "0        ...  0.000000     0.0       0.00       0.00       0.75       0.00   \n",
              "1        ...  0.000000     0.0       0.00       0.00       0.25       0.00   \n",
              "2        ...  0.166667     0.0       0.00       0.25       0.25       0.00   \n",
              "3        ...  0.000000     0.0       0.50       0.00       0.25       0.00   \n",
              "4        ...  0.000000     0.0       0.50       0.00       0.00       0.00   \n",
              "...      ...       ...     ...        ...        ...        ...        ...   \n",
              "2664065  ...  0.166667     0.0       0.00       0.25       0.00       0.25   \n",
              "2664066  ...  0.166667     0.0       0.00       0.25       0.25       0.25   \n",
              "2664067  ...  0.000000     0.0       0.00       0.00       0.25       0.00   \n",
              "2664068  ...  0.000000     0.0       0.50       0.00       0.25       0.00   \n",
              "2664069  ...  0.000000     0.0       0.25       0.00       0.25       0.00   \n",
              "\n",
              "         cksnap_GC    js_all      eiip  prediction  \n",
              "0             0.00  0.666667  0.122943    0.009351  \n",
              "1             0.25  0.666667  0.108829    0.011313  \n",
              "2             0.25  0.511111  0.123943    0.287240  \n",
              "3             0.00  0.666667  0.128214    0.004840  \n",
              "4             0.00  0.583333  0.129286    0.000879  \n",
              "...            ...       ...       ...         ...  \n",
              "2664065       0.25  0.511111  0.117386    0.031007  \n",
              "2664066       0.00  0.511111  0.123871    0.001654  \n",
              "2664067       0.50  0.583333  0.117529    0.303932  \n",
              "2664068       0.00  0.600000  0.120657    0.252910  \n",
              "2664069       0.25  0.511111  0.122871    0.020533  \n",
              "\n",
              "[2664070 rows x 48 columns]"
            ]
          },
          "execution_count": 15,
          "metadata": {},
          "output_type": "execute_result"
        }
      ],
      "source": [
        "df"
      ]
    },
    {
      "cell_type": "code",
      "execution_count": 17,
      "metadata": {},
      "outputs": [
        {
          "data": {
            "image/png": "[encoded data removed]",
            "text/plain": [
              "<Figure size 432x288 with 1 Axes>"
            ]
          },
          "metadata": {
            "needs_background": "light"
          },
          "output_type": "display_data"
        },
        {
          "data": {
            "image/png": "[encoded data removed]",
            "text/plain": [
              "<Figure size 432x288 with 1 Axes>"
            ]
          },
          "metadata": {
            "needs_background": "light"
          },
          "output_type": "display_data"
        },
        {
          "data": {
            "image/png": "[encoded data removed]",
            "text/plain": [
              "<Figure size 432x288 with 1 Axes>"
            ]
          },
          "metadata": {
            "needs_background": "light"
          },
          "output_type": "display_data"
        },
        {
          "data": {
            "image/png": "[encoded data removed]",
            "text/plain": [
              "<Figure size 432x288 with 1 Axes>"
            ]
          },
          "metadata": {
            "needs_background": "light"
          },
          "output_type": "display_data"
        },
        {
          "data": {
            "image/png": "[encoded data removed]",
            "text/plain": [
              "<Figure size 432x288 with 1 Axes>"
            ]
          },
          "metadata": {
            "needs_background": "light"
          },
          "output_type": "display_data"
        },
        {
          "data": {
            "image/png": "[encoded data removed]",
            "text/plain": [
              "<Figure size 432x288 with 1 Axes>"
            ]
          },
          "metadata": {
            "needs_background": "light"
          },
          "output_type": "display_data"
        },
        {
          "data": {
            "image/png": "[encoded data removed]",
            "text/plain": [
              "<Figure size 432x288 with 1 Axes>"
            ]
          },
          "metadata": {
            "needs_background": "light"
          },
          "output_type": "display_data"
        },
        {
          "data": {
            "image/png": "[encoded data removed]",
            "text/plain": [
              "<Figure size 432x288 with 1 Axes>"
            ]
          },
          "metadata": {
            "needs_background": "light"
          },
          "output_type": "display_data"
        },
        {
          "data": {
            "image/png": "[encoded data removed]",
            "text/plain": [
              "<Figure size 432x288 with 1 Axes>"
            ]
          },
          "metadata": {
            "needs_background": "light"
          },
          "output_type": "display_data"
        },
        {
          "data": {
            "image/png": "[encoded data removed]",
            "text/plain": [
              "<Figure size 432x288 with 1 Axes>"
            ]
          },
          "metadata": {
            "needs_background": "light"
          },
          "output_type": "display_data"
        },
        {
          "data": {
            "image/png": "[encoded data removed]",
            "text/plain": [
              "<Figure size 432x288 with 1 Axes>"
            ]
          },
          "metadata": {
            "needs_background": "light"
          },
          "output_type": "display_data"
        },
        {
          "data": {
            "image/png": "[encoded data removed]",
            "text/plain": [
              "<Figure size 432x288 with 1 Axes>"
            ]
          },
          "metadata": {
            "needs_background": "light"
          },
          "output_type": "display_data"
        },
        {
          "data": {
            "image/png": "[encoded data removed]",
            "text/plain": [
              "<Figure size 432x288 with 1 Axes>"
            ]
          },
          "metadata": {
            "needs_background": "light"
          },
          "output_type": "display_data"
        }
      ],
      "source": [
        "for column in ['nucleo_-3_A', 'nucleo_-3_G',\n",
        "       'nucleo_-3_T', 'nucleo_-2_A', 'nucleo_-2_G', 'nucleo_-1_G',\n",
        "       'nucleo_2_C', 'nucleo_2_T', 'nucleo_2_A', 'nucleo_3_A', 'nucleo_3_G',\n",
        "       'nucleo_3_T', 'nucleo_3_C']:\n",
        "    sns.countplot(data=df, x=column, hue='label', stat=\"probability\")\n",
        "    plt.show()"
      ]
    },
    {
      "cell_type": "code",
      "execution_count": null,
      "metadata": {},
      "outputs": [],
      "source": []
    }
  ],
  "metadata": {
    "colab": {
      "provenance": []
    },
    "interpreter": {
      "hash": "e5ed79da61d64e3c326f85804a9a2c1fdc2c426a0b478f8b6c1cd1827151984a"
    },
    "kernelspec": {
      "display_name": "Python 3.8.3 ('base')",
      "language": "python",
      "name": "python3"
    },
    "language_info": {
      "codemirror_mode": {
        "name": "ipython",
        "version": 3
      },
      "file_extension": ".py",
      "mimetype": "text/x-python",
      "name": "python",
      "nbconvert_exporter": "python",
      "pygments_lexer": "ipython3",
      "version": "3.8.3"
    }
  },
  "nbformat": 4,
  "nbformat_minor": 0
}
