{
 "cells": [
  {
   "cell_type": "code",
   "execution_count": 7,
   "metadata": {},
   "outputs": [],
   "source": [
    "import pandas as pd\n",
    "import numpy as np\n",
    "from sklearn.feature_selection import RFECV\n",
    "from sklearn.model_selection import StratifiedKFold\n",
    "from sklearn.metrics import average_precision_score, roc_auc_score, accuracy_score\n",
    "import matplotlib.pyplot as plt\n",
    "import math\n",
    "from sklearn.ensemble import RandomForestClassifier"
   ]
  },
  {
   "cell_type": "code",
   "execution_count": 8,
   "metadata": {},
   "outputs": [],
   "source": [
    "X_train = pd.read_csv(\"/Users/shaun/Desktop/DSA4266/dsa4266-gnome/final_submission_data/stdtrainset.csv\",index_col=0)\n",
    "X_test = pd.read_csv(\"/Users/shaun/Desktop/DSA4266/dsa4266-gnome/final_submission_data/stdtestset.csv\",index_col=0)\n",
    "X_val = pd.read_csv(\"/Users/shaun/Desktop/DSA4266/dsa4266-gnome/final_submission_data/stdvalset.csv\", index_col=0)\n",
    "\n",
    "y_train = X_train.label\n",
    "y_test = X_test.label\n",
    "y_val = X_val.label\n",
    "\n",
    "X_train = X_train.drop(columns=[\"label\"])\n",
    "X_test = X_test.drop(columns=[\"label\"])\n",
    "X_val = X_val.drop(columns=[\"label\"])"
   ]
  },
  {
   "cell_type": "code",
   "execution_count": 9,
   "metadata": {},
   "outputs": [
    {
     "name": "stdout",
     "output_type": "stream",
     "text": [
      "Fitting estimator with 62 features.\n",
      "Fitting estimator with 61 features.\n",
      "Fitting estimator with 60 features.\n",
      "Fitting estimator with 59 features.\n",
      "Fitting estimator with 58 features.\n",
      "Fitting estimator with 57 features.\n",
      "Fitting estimator with 56 features.\n",
      "Fitting estimator with 55 features.\n",
      "Fitting estimator with 54 features.\n",
      "Fitting estimator with 53 features.\n",
      "Fitting estimator with 52 features.\n",
      "Fitting estimator with 51 features.\n",
      "Fitting estimator with 50 features.\n",
      "Fitting estimator with 49 features.\n",
      "Fitting estimator with 48 features.\n",
      "Fitting estimator with 47 features.\n",
      "Fitting estimator with 46 features.\n",
      "Fitting estimator with 45 features.\n",
      "Fitting estimator with 44 features.\n",
      "Fitting estimator with 43 features.\n",
      "Fitting estimator with 42 features.\n",
      "Fitting estimator with 41 features.\n",
      "Fitting estimator with 40 features.\n",
      "Fitting estimator with 39 features.\n",
      "Fitting estimator with 38 features.\n",
      "Fitting estimator with 37 features.\n",
      "Fitting estimator with 36 features.\n",
      "Fitting estimator with 35 features.\n",
      "Fitting estimator with 34 features.\n",
      "Fitting estimator with 33 features.\n",
      "Fitting estimator with 32 features.\n",
      "Fitting estimator with 31 features.\n",
      "Fitting estimator with 30 features.\n",
      "Optimal number of features : 29\n"
     ]
    },
    {
     "name": "stderr",
     "output_type": "stream",
     "text": [
      "/Users/shaun/opt/anaconda3/lib/python3.8/site-packages/sklearn/utils/deprecation.py:103: FutureWarning: The `grid_scores_` attribute is deprecated in version 1.0 in favor of `cv_results_` and will be removed in version 1.2.\n",
      "  warnings.warn(msg, category=FutureWarning)\n"
     ]
    },
    {
     "data": {
      "image/png": "[encoded data removed]",
      "text/plain": [
       "<Figure size 432x288 with 1 Axes>"
      ]
     },
     "metadata": {
      "needs_background": "light"
     },
     "output_type": "display_data"
    },
    {
     "name": "stdout",
     "output_type": "stream",
     "text": [
      "Num Features Before: 62\n",
      "Num Features After: 29\n"
     ]
    }
   ],
   "source": [
    "\n",
    "min_features_to_select = 1\n",
    "\n",
    "# To account for weight imbalances\n",
    "scale_pos_weight = math.sqrt(y_train.value_counts().values[0]/y_train.value_counts().values[1])\n",
    "\n",
    "# create a XGB model\n",
    "clf_rf = RandomForestClassifier(random_state=4266)\n",
    "\n",
    "# Recursively eliminate features with cross validation\n",
    "rfecv = RFECV(estimator=clf_rf, cv=7, scoring='roc_auc', n_jobs=-1, verbose=10, step=1, min_features_to_select= min_features_to_select)\n",
    "rfecv.fit(X_train, y_train)\n",
    "\n",
    "print(\"Optimal number of features : %d\" % rfecv.n_features_)\n",
    "\n",
    "# Plot number of features VS. cross-validation scores\n",
    "plt.figure()\n",
    "plt.xlabel(\"Number of features selected\")\n",
    "plt.ylabel(\"Cross validation score (accuracy)\")\n",
    "plt.plot(\n",
    "    range(min_features_to_select, len(rfecv.grid_scores_) + min_features_to_select),\n",
    "    rfecv.grid_scores_,\n",
    ")\n",
    "plt.show()\n",
    "\n",
    "X_train_new = rfecv.transform(X_train)\n",
    "print(\"Num Features Before:\", X_train.shape[1])\n",
    "print(\"Num Features After:\", X_train_new.shape[1])"
   ]
  },
  {
   "cell_type": "code",
   "execution_count": 10,
   "metadata": {},
   "outputs": [
    {
     "data": {
      "text/plain": [
       "array([ True,  True,  True,  True,  True,  True,  True,  True,  True,\n",
       "       False, False, False,  True, False,  True, False, False, False,\n",
       "       False, False,  True, False, False,  True, False, False,  True,\n",
       "        True,  True, False, False,  True, False, False, False, False,\n",
       "       False,  True, False, False, False,  True, False,  True,  True,\n",
       "        True,  True, False,  True,  True,  True, False, False, False,\n",
       "       False, False, False, False, False,  True,  True,  True])"
      ]
     },
     "execution_count": 10,
     "metadata": {},
     "output_type": "execute_result"
    }
   ],
   "source": [
    "rfecv.support_"
   ]
  },
  {
   "cell_type": "code",
   "execution_count": 11,
   "metadata": {},
   "outputs": [],
   "source": [
    "X_train_new = X_train.iloc[:, rfecv.support_]"
   ]
  },
  {
   "cell_type": "code",
   "execution_count": 12,
   "metadata": {},
   "outputs": [
    {
     "data": {
      "text/plain": [
       "Index(['dwelling_t-1', 'sd_-1', 'mean_-1', 'dwelling_t0', 'sd_0', 'mean_0',\n",
       "       'dwelling_t1', 'sd_1', 'mean_1', 'nucleo_-3_T', 'nucleo_-2_G',\n",
       "       'nucleo_2_T', 'nucleo_3_G', 'pwm_score', 'knf_AA', 'knf_AG', 'knf_GG',\n",
       "       'knf_TG', 'knf_CT', 'cksnap_AA', 'cksnap_AG', 'cksnap_AT', 'cksnap_AC',\n",
       "       'cksnap_GA', 'cksnap_GT', 'cksnap_GC', 'dacc_bet', 'js_all', 'eiip'],\n",
       "      dtype='object')"
      ]
     },
     "execution_count": 12,
     "metadata": {},
     "output_type": "execute_result"
    }
   ],
   "source": [
    "X_train_new.columns"
   ]
  },
  {
   "cell_type": "code",
   "execution_count": 13,
   "metadata": {},
   "outputs": [],
   "source": [
    "\n",
    "rfecv_features = ['dwelling_t-1', 'sd_-1', 'mean_-1', 'dwelling_t0', 'sd_0', 'mean_0',\n",
    "       'dwelling_t1', 'sd_1', 'mean_1', 'nucleo_-3_T', 'nucleo_-2_G',\n",
    "       'nucleo_2_T', 'nucleo_3_G', 'pwm_score', 'knf_AA', 'knf_AG', 'knf_GG',\n",
    "       'knf_TG', 'knf_CT', 'cksnap_AA', 'cksnap_AG', 'cksnap_AT', 'cksnap_AC',\n",
    "       'cksnap_GA', 'cksnap_GT', 'cksnap_GC', 'dacc_bet', 'js_all', 'eiip']"
   ]
  },
  {
   "cell_type": "code",
   "execution_count": 14,
   "metadata": {},
   "outputs": [
    {
     "data": {
      "text/plain": [
       "29"
      ]
     },
     "execution_count": 14,
     "metadata": {},
     "output_type": "execute_result"
    }
   ],
   "source": [
    "len(rfecv_features)"
   ]
  },
  {
   "cell_type": "code",
   "execution_count": 15,
   "metadata": {},
   "outputs": [],
   "source": [
    "X_train_new = X_train.loc[:,rfecv_features]"
   ]
  },
  {
   "cell_type": "code",
   "execution_count": 16,
   "metadata": {},
   "outputs": [
    {
     "data": {
      "text/html": [
       "<div>\n",
       "<style scoped>\n",
       "    .dataframe tbody tr th:only-of-type {\n",
       "        vertical-align: middle;\n",
       "    }\n",
       "\n",
       "    .dataframe tbody tr th {\n",
       "        vertical-align: top;\n",
       "    }\n",
       "\n",
       "    .dataframe thead th {\n",
       "        text-align: right;\n",
       "    }\n",
       "</style>\n",
       "<table border=\"1\" class=\"dataframe\">\n",
       "  <thead>\n",
       "    <tr style=\"text-align: right;\">\n",
       "      <th></th>\n",
       "      <th>dwelling_t-1</th>\n",
       "      <th>sd_-1</th>\n",
       "      <th>mean_-1</th>\n",
       "      <th>dwelling_t0</th>\n",
       "      <th>sd_0</th>\n",
       "      <th>mean_0</th>\n",
       "      <th>dwelling_t1</th>\n",
       "      <th>sd_1</th>\n",
       "      <th>mean_1</th>\n",
       "      <th>nucleo_-3_T</th>\n",
       "      <th>...</th>\n",
       "      <th>cksnap_AA</th>\n",
       "      <th>cksnap_AG</th>\n",
       "      <th>cksnap_AT</th>\n",
       "      <th>cksnap_AC</th>\n",
       "      <th>cksnap_GA</th>\n",
       "      <th>cksnap_GT</th>\n",
       "      <th>cksnap_GC</th>\n",
       "      <th>dacc_bet</th>\n",
       "      <th>js_all</th>\n",
       "      <th>eiip</th>\n",
       "    </tr>\n",
       "  </thead>\n",
       "  <tbody>\n",
       "    <tr>\n",
       "      <th>0</th>\n",
       "      <td>0.086521</td>\n",
       "      <td>-0.061286</td>\n",
       "      <td>1.143673</td>\n",
       "      <td>0.740391</td>\n",
       "      <td>1.019254</td>\n",
       "      <td>1.205214</td>\n",
       "      <td>0.223718</td>\n",
       "      <td>1.582161</td>\n",
       "      <td>-1.141916</td>\n",
       "      <td>-0.556449</td>\n",
       "      <td>...</td>\n",
       "      <td>1.587098</td>\n",
       "      <td>-0.564808</td>\n",
       "      <td>-0.764888</td>\n",
       "      <td>0.396127</td>\n",
       "      <td>-0.770956</td>\n",
       "      <td>-0.436543</td>\n",
       "      <td>0.788257</td>\n",
       "      <td>-0.631135</td>\n",
       "      <td>-0.716670</td>\n",
       "      <td>0.237713</td>\n",
       "    </tr>\n",
       "    <tr>\n",
       "      <th>1</th>\n",
       "      <td>-0.839637</td>\n",
       "      <td>-0.581488</td>\n",
       "      <td>-0.097565</td>\n",
       "      <td>-0.775008</td>\n",
       "      <td>-0.883272</td>\n",
       "      <td>-0.242814</td>\n",
       "      <td>0.505861</td>\n",
       "      <td>0.049860</td>\n",
       "      <td>1.636934</td>\n",
       "      <td>-0.556449</td>\n",
       "      <td>...</td>\n",
       "      <td>-0.990416</td>\n",
       "      <td>1.770514</td>\n",
       "      <td>0.929317</td>\n",
       "      <td>0.396127</td>\n",
       "      <td>-0.770956</td>\n",
       "      <td>-0.436543</td>\n",
       "      <td>-0.855265</td>\n",
       "      <td>0.249209</td>\n",
       "      <td>-0.313473</td>\n",
       "      <td>0.403110</td>\n",
       "    </tr>\n",
       "    <tr>\n",
       "      <th>2</th>\n",
       "      <td>-0.302030</td>\n",
       "      <td>-0.723954</td>\n",
       "      <td>-0.469877</td>\n",
       "      <td>-0.418340</td>\n",
       "      <td>-0.692742</td>\n",
       "      <td>-0.961247</td>\n",
       "      <td>0.386090</td>\n",
       "      <td>-0.989407</td>\n",
       "      <td>0.639177</td>\n",
       "      <td>-0.556449</td>\n",
       "      <td>...</td>\n",
       "      <td>0.298341</td>\n",
       "      <td>1.770514</td>\n",
       "      <td>-0.764888</td>\n",
       "      <td>0.396127</td>\n",
       "      <td>0.952704</td>\n",
       "      <td>-0.436543</td>\n",
       "      <td>-0.855265</td>\n",
       "      <td>0.249209</td>\n",
       "      <td>-0.313473</td>\n",
       "      <td>-0.939914</td>\n",
       "    </tr>\n",
       "    <tr>\n",
       "      <th>3</th>\n",
       "      <td>1.404788</td>\n",
       "      <td>1.101941</td>\n",
       "      <td>1.644044</td>\n",
       "      <td>0.301845</td>\n",
       "      <td>-1.033132</td>\n",
       "      <td>-1.050465</td>\n",
       "      <td>-0.736462</td>\n",
       "      <td>-0.822385</td>\n",
       "      <td>0.596579</td>\n",
       "      <td>-0.556449</td>\n",
       "      <td>...</td>\n",
       "      <td>1.587098</td>\n",
       "      <td>-0.564808</td>\n",
       "      <td>0.929317</td>\n",
       "      <td>-0.980639</td>\n",
       "      <td>-0.770956</td>\n",
       "      <td>-0.436543</td>\n",
       "      <td>0.788257</td>\n",
       "      <td>-0.631135</td>\n",
       "      <td>-0.716670</td>\n",
       "      <td>0.226687</td>\n",
       "    </tr>\n",
       "    <tr>\n",
       "      <th>4</th>\n",
       "      <td>1.449696</td>\n",
       "      <td>1.070286</td>\n",
       "      <td>0.632134</td>\n",
       "      <td>1.986879</td>\n",
       "      <td>0.327096</td>\n",
       "      <td>0.887154</td>\n",
       "      <td>2.288659</td>\n",
       "      <td>1.440451</td>\n",
       "      <td>-0.208536</td>\n",
       "      <td>-0.556449</td>\n",
       "      <td>...</td>\n",
       "      <td>1.587098</td>\n",
       "      <td>-0.564808</td>\n",
       "      <td>-0.764888</td>\n",
       "      <td>-0.980639</td>\n",
       "      <td>0.952704</td>\n",
       "      <td>-0.436543</td>\n",
       "      <td>0.788257</td>\n",
       "      <td>-0.631135</td>\n",
       "      <td>-0.716670</td>\n",
       "      <td>-0.939914</td>\n",
       "    </tr>\n",
       "    <tr>\n",
       "      <th>...</th>\n",
       "      <td>...</td>\n",
       "      <td>...</td>\n",
       "      <td>...</td>\n",
       "      <td>...</td>\n",
       "      <td>...</td>\n",
       "      <td>...</td>\n",
       "      <td>...</td>\n",
       "      <td>...</td>\n",
       "      <td>...</td>\n",
       "      <td>...</td>\n",
       "      <td>...</td>\n",
       "      <td>...</td>\n",
       "      <td>...</td>\n",
       "      <td>...</td>\n",
       "      <td>...</td>\n",
       "      <td>...</td>\n",
       "      <td>...</td>\n",
       "      <td>...</td>\n",
       "      <td>...</td>\n",
       "      <td>...</td>\n",
       "      <td>...</td>\n",
       "    </tr>\n",
       "    <tr>\n",
       "      <th>109656</th>\n",
       "      <td>0.830441</td>\n",
       "      <td>-0.541343</td>\n",
       "      <td>0.659456</td>\n",
       "      <td>-0.486953</td>\n",
       "      <td>-0.103518</td>\n",
       "      <td>0.436286</td>\n",
       "      <td>-0.386635</td>\n",
       "      <td>1.155730</td>\n",
       "      <td>-0.851515</td>\n",
       "      <td>-0.556449</td>\n",
       "      <td>...</td>\n",
       "      <td>-0.990416</td>\n",
       "      <td>-0.564808</td>\n",
       "      <td>0.929317</td>\n",
       "      <td>-0.980639</td>\n",
       "      <td>2.676363</td>\n",
       "      <td>-0.436543</td>\n",
       "      <td>0.788257</td>\n",
       "      <td>0.249209</td>\n",
       "      <td>0.032125</td>\n",
       "      <td>-1.775721</td>\n",
       "    </tr>\n",
       "    <tr>\n",
       "      <th>109657</th>\n",
       "      <td>0.158355</td>\n",
       "      <td>0.087040</td>\n",
       "      <td>0.016470</td>\n",
       "      <td>1.292003</td>\n",
       "      <td>1.808367</td>\n",
       "      <td>0.322611</td>\n",
       "      <td>-1.148793</td>\n",
       "      <td>0.752101</td>\n",
       "      <td>-1.156735</td>\n",
       "      <td>-0.556449</td>\n",
       "      <td>...</td>\n",
       "      <td>-0.990416</td>\n",
       "      <td>-0.564808</td>\n",
       "      <td>-0.764888</td>\n",
       "      <td>0.396127</td>\n",
       "      <td>0.952704</td>\n",
       "      <td>-0.436543</td>\n",
       "      <td>-0.855265</td>\n",
       "      <td>0.249209</td>\n",
       "      <td>0.032125</td>\n",
       "      <td>0.579534</td>\n",
       "    </tr>\n",
       "    <tr>\n",
       "      <th>109658</th>\n",
       "      <td>0.028464</td>\n",
       "      <td>-0.218967</td>\n",
       "      <td>0.281974</td>\n",
       "      <td>-0.737239</td>\n",
       "      <td>-0.181365</td>\n",
       "      <td>0.212946</td>\n",
       "      <td>-0.498356</td>\n",
       "      <td>-0.883835</td>\n",
       "      <td>-0.408672</td>\n",
       "      <td>1.797111</td>\n",
       "      <td>...</td>\n",
       "      <td>-0.990416</td>\n",
       "      <td>-0.564808</td>\n",
       "      <td>-0.764888</td>\n",
       "      <td>0.396127</td>\n",
       "      <td>0.952704</td>\n",
       "      <td>-0.436543</td>\n",
       "      <td>0.788257</td>\n",
       "      <td>0.249209</td>\n",
       "      <td>0.032125</td>\n",
       "      <td>-0.598094</td>\n",
       "    </tr>\n",
       "    <tr>\n",
       "      <th>109659</th>\n",
       "      <td>-0.036874</td>\n",
       "      <td>-0.594499</td>\n",
       "      <td>-0.126514</td>\n",
       "      <td>-0.415996</td>\n",
       "      <td>0.639640</td>\n",
       "      <td>0.992287</td>\n",
       "      <td>-0.450277</td>\n",
       "      <td>-0.482068</td>\n",
       "      <td>-0.793719</td>\n",
       "      <td>-0.556449</td>\n",
       "      <td>...</td>\n",
       "      <td>0.298341</td>\n",
       "      <td>-0.564808</td>\n",
       "      <td>-0.764888</td>\n",
       "      <td>-0.980639</td>\n",
       "      <td>-0.770956</td>\n",
       "      <td>-0.436543</td>\n",
       "      <td>0.788257</td>\n",
       "      <td>-0.631135</td>\n",
       "      <td>-0.716670</td>\n",
       "      <td>0.579534</td>\n",
       "    </tr>\n",
       "    <tr>\n",
       "      <th>109660</th>\n",
       "      <td>0.379780</td>\n",
       "      <td>-0.130075</td>\n",
       "      <td>-0.440485</td>\n",
       "      <td>-0.719020</td>\n",
       "      <td>1.623906</td>\n",
       "      <td>0.178570</td>\n",
       "      <td>0.990049</td>\n",
       "      <td>-0.441978</td>\n",
       "      <td>-1.553815</td>\n",
       "      <td>1.797111</td>\n",
       "      <td>...</td>\n",
       "      <td>-0.990416</td>\n",
       "      <td>-0.564808</td>\n",
       "      <td>0.929317</td>\n",
       "      <td>-0.980639</td>\n",
       "      <td>0.952704</td>\n",
       "      <td>-0.436543</td>\n",
       "      <td>-0.855265</td>\n",
       "      <td>-0.631135</td>\n",
       "      <td>-0.716670</td>\n",
       "      <td>0.557481</td>\n",
       "    </tr>\n",
       "  </tbody>\n",
       "</table>\n",
       "<p>109661 rows × 29 columns</p>\n",
       "</div>"
      ],
      "text/plain": [
       "        dwelling_t-1     sd_-1   mean_-1  dwelling_t0      sd_0    mean_0  \\\n",
       "0           0.086521 -0.061286  1.143673     0.740391  1.019254  1.205214   \n",
       "1          -0.839637 -0.581488 -0.097565    -0.775008 -0.883272 -0.242814   \n",
       "2          -0.302030 -0.723954 -0.469877    -0.418340 -0.692742 -0.961247   \n",
       "3           1.404788  1.101941  1.644044     0.301845 -1.033132 -1.050465   \n",
       "4           1.449696  1.070286  0.632134     1.986879  0.327096  0.887154   \n",
       "...              ...       ...       ...          ...       ...       ...   \n",
       "109656      0.830441 -0.541343  0.659456    -0.486953 -0.103518  0.436286   \n",
       "109657      0.158355  0.087040  0.016470     1.292003  1.808367  0.322611   \n",
       "109658      0.028464 -0.218967  0.281974    -0.737239 -0.181365  0.212946   \n",
       "109659     -0.036874 -0.594499 -0.126514    -0.415996  0.639640  0.992287   \n",
       "109660      0.379780 -0.130075 -0.440485    -0.719020  1.623906  0.178570   \n",
       "\n",
       "        dwelling_t1      sd_1    mean_1  nucleo_-3_T  ...  cksnap_AA  \\\n",
       "0          0.223718  1.582161 -1.141916    -0.556449  ...   1.587098   \n",
       "1          0.505861  0.049860  1.636934    -0.556449  ...  -0.990416   \n",
       "2          0.386090 -0.989407  0.639177    -0.556449  ...   0.298341   \n",
       "3         -0.736462 -0.822385  0.596579    -0.556449  ...   1.587098   \n",
       "4          2.288659  1.440451 -0.208536    -0.556449  ...   1.587098   \n",
       "...             ...       ...       ...          ...  ...        ...   \n",
       "109656    -0.386635  1.155730 -0.851515    -0.556449  ...  -0.990416   \n",
       "109657    -1.148793  0.752101 -1.156735    -0.556449  ...  -0.990416   \n",
       "109658    -0.498356 -0.883835 -0.408672     1.797111  ...  -0.990416   \n",
       "109659    -0.450277 -0.482068 -0.793719    -0.556449  ...   0.298341   \n",
       "109660     0.990049 -0.441978 -1.553815     1.797111  ...  -0.990416   \n",
       "\n",
       "        cksnap_AG  cksnap_AT  cksnap_AC  cksnap_GA  cksnap_GT  cksnap_GC  \\\n",
       "0       -0.564808  -0.764888   0.396127  -0.770956  -0.436543   0.788257   \n",
       "1        1.770514   0.929317   0.396127  -0.770956  -0.436543  -0.855265   \n",
       "2        1.770514  -0.764888   0.396127   0.952704  -0.436543  -0.855265   \n",
       "3       -0.564808   0.929317  -0.980639  -0.770956  -0.436543   0.788257   \n",
       "4       -0.564808  -0.764888  -0.980639   0.952704  -0.436543   0.788257   \n",
       "...           ...        ...        ...        ...        ...        ...   \n",
       "109656  -0.564808   0.929317  -0.980639   2.676363  -0.436543   0.788257   \n",
       "109657  -0.564808  -0.764888   0.396127   0.952704  -0.436543  -0.855265   \n",
       "109658  -0.564808  -0.764888   0.396127   0.952704  -0.436543   0.788257   \n",
       "109659  -0.564808  -0.764888  -0.980639  -0.770956  -0.436543   0.788257   \n",
       "109660  -0.564808   0.929317  -0.980639   0.952704  -0.436543  -0.855265   \n",
       "\n",
       "        dacc_bet    js_all      eiip  \n",
       "0      -0.631135 -0.716670  0.237713  \n",
       "1       0.249209 -0.313473  0.403110  \n",
       "2       0.249209 -0.313473 -0.939914  \n",
       "3      -0.631135 -0.716670  0.226687  \n",
       "4      -0.631135 -0.716670 -0.939914  \n",
       "...          ...       ...       ...  \n",
       "109656  0.249209  0.032125 -1.775721  \n",
       "109657  0.249209  0.032125  0.579534  \n",
       "109658  0.249209  0.032125 -0.598094  \n",
       "109659 -0.631135 -0.716670  0.579534  \n",
       "109660 -0.631135 -0.716670  0.557481  \n",
       "\n",
       "[109661 rows x 29 columns]"
      ]
     },
     "execution_count": 16,
     "metadata": {},
     "output_type": "execute_result"
    }
   ],
   "source": [
    "X_train_new"
   ]
  },
  {
   "cell_type": "code",
   "execution_count": 17,
   "metadata": {},
   "outputs": [],
   "source": [
    "import pickle\n",
    "model = pickle.load(open(\"/Users/shaun/Desktop/xgbmodel_new.pkl\",\"rb\"))"
   ]
  },
  {
   "cell_type": "code",
   "execution_count": 19,
   "metadata": {},
   "outputs": [],
   "source": [
    "# To account for weight imbalances\n",
    "scale_pos_weight = math.sqrt(y_train.value_counts().values[0]/y_train.value_counts().values[1])\n",
    "\n",
    "# create a XGB model\n",
    "clf_rf = RandomForestClassifier(random_state=4266)"
   ]
  },
  {
   "cell_type": "code",
   "execution_count": 20,
   "metadata": {},
   "outputs": [
    {
     "data": {
      "text/html": [
       "<style>#sk-container-id-1 {color: black;background-color: white;}#sk-container-id-1 pre{padding: 0;}#sk-container-id-1 div.sk-toggleable {background-color: white;}#sk-container-id-1 label.sk-toggleable__label {cursor: pointer;display: block;width: 100%;margin-bottom: 0;padding: 0.3em;box-sizing: border-box;text-align: center;}#sk-container-id-1 label.sk-toggleable__label-arrow:before {content: \"▸\";float: left;margin-right: 0.25em;color: #696969;}#sk-container-id-1 label.sk-toggleable__label-arrow:hover:before {color: black;}#sk-container-id-1 div.sk-estimator:hover label.sk-toggleable__label-arrow:before {color: black;}#sk-container-id-1 div.sk-toggleable__content {max-height: 0;max-width: 0;overflow: hidden;text-align: left;background-color: #f0f8ff;}#sk-container-id-1 div.sk-toggleable__content pre {margin: 0.2em;color: black;border-radius: 0.25em;background-color: #f0f8ff;}#sk-container-id-1 input.sk-toggleable__control:checked~div.sk-toggleable__content {max-height: 200px;max-width: 100%;overflow: auto;}#sk-container-id-1 input.sk-toggleable__control:checked~label.sk-toggleable__label-arrow:before {content: \"▾\";}#sk-container-id-1 div.sk-estimator input.sk-toggleable__control:checked~label.sk-toggleable__label {background-color: #d4ebff;}#sk-container-id-1 div.sk-label input.sk-toggleable__control:checked~label.sk-toggleable__label {background-color: #d4ebff;}#sk-container-id-1 input.sk-hidden--visually {border: 0;clip: rect(1px 1px 1px 1px);clip: rect(1px, 1px, 1px, 1px);height: 1px;margin: -1px;overflow: hidden;padding: 0;position: absolute;width: 1px;}#sk-container-id-1 div.sk-estimator {font-family: monospace;background-color: #f0f8ff;border: 1px dotted black;border-radius: 0.25em;box-sizing: border-box;margin-bottom: 0.5em;}#sk-container-id-1 div.sk-estimator:hover {background-color: #d4ebff;}#sk-container-id-1 div.sk-parallel-item::after {content: \"\";width: 100%;border-bottom: 1px solid gray;flex-grow: 1;}#sk-container-id-1 div.sk-label:hover label.sk-toggleable__label {background-color: #d4ebff;}#sk-container-id-1 div.sk-serial::before {content: \"\";position: absolute;border-left: 1px solid gray;box-sizing: border-box;top: 0;bottom: 0;left: 50%;z-index: 0;}#sk-container-id-1 div.sk-serial {display: flex;flex-direction: column;align-items: center;background-color: white;padding-right: 0.2em;padding-left: 0.2em;position: relative;}#sk-container-id-1 div.sk-item {position: relative;z-index: 1;}#sk-container-id-1 div.sk-parallel {display: flex;align-items: stretch;justify-content: center;background-color: white;position: relative;}#sk-container-id-1 div.sk-item::before, #sk-container-id-1 div.sk-parallel-item::before {content: \"\";position: absolute;border-left: 1px solid gray;box-sizing: border-box;top: 0;bottom: 0;left: 50%;z-index: -1;}#sk-container-id-1 div.sk-parallel-item {display: flex;flex-direction: column;z-index: 1;position: relative;background-color: white;}#sk-container-id-1 div.sk-parallel-item:first-child::after {align-self: flex-end;width: 50%;}#sk-container-id-1 div.sk-parallel-item:last-child::after {align-self: flex-start;width: 50%;}#sk-container-id-1 div.sk-parallel-item:only-child::after {width: 0;}#sk-container-id-1 div.sk-dashed-wrapped {border: 1px dashed gray;margin: 0 0.4em 0.5em 0.4em;box-sizing: border-box;padding-bottom: 0.4em;background-color: white;}#sk-container-id-1 div.sk-label label {font-family: monospace;font-weight: bold;display: inline-block;line-height: 1.2em;}#sk-container-id-1 div.sk-label-container {text-align: center;}#sk-container-id-1 div.sk-container {/* jupyter's `normalize.less` sets `[hidden] { display: none; }` but bootstrap.min.css set `[hidden] { display: none !important; }` so we also need the `!important` here to be able to override the default hidden behavior on the sphinx rendered scikit-learn.org. See: https://github.com/scikit-learn/scikit-learn/issues/21755 */display: inline-block !important;position: relative;}#sk-container-id-1 div.sk-text-repr-fallback {display: none;}</style><div id=\"sk-container-id-1\" class=\"sk-top-container\"><div class=\"sk-text-repr-fallback\"><pre>RandomForestClassifier(random_state=4266)</pre><b>In a Jupyter environment, please rerun this cell to show the HTML representation or trust the notebook. <br />On GitHub, the HTML representation is unable to render, please try loading this page with nbviewer.org.</b></div><div class=\"sk-container\" hidden><div class=\"sk-item\"><div class=\"sk-estimator sk-toggleable\"><input class=\"sk-toggleable__control sk-hidden--visually\" id=\"sk-estimator-id-1\" type=\"checkbox\" checked><label for=\"sk-estimator-id-1\" class=\"sk-toggleable__label sk-toggleable__label-arrow\">RandomForestClassifier</label><div class=\"sk-toggleable__content\"><pre>RandomForestClassifier(random_state=4266)</pre></div></div></div></div></div>"
      ],
      "text/plain": [
       "RandomForestClassifier(random_state=4266)"
      ]
     },
     "execution_count": 20,
     "metadata": {},
     "output_type": "execute_result"
    }
   ],
   "source": [
    "clf_rf.fit(X_train_new,y_train)"
   ]
  },
  {
   "cell_type": "code",
   "execution_count": 21,
   "metadata": {},
   "outputs": [],
   "source": [
    "\n",
    "X_test_new = X_test.loc[:, rfecv_features]\n",
    "X_val_new = X_val.loc[:,rfecv_features]"
   ]
  },
  {
   "cell_type": "code",
   "execution_count": 22,
   "metadata": {},
   "outputs": [
    {
     "name": "stdout",
     "output_type": "stream",
     "text": [
      "Accuracy: 1.0\n",
      "AUC-ROC: 1.0\n",
      "PR-ROC: 1.0\n"
     ]
    }
   ],
   "source": [
    "y_pred = clf_rf.predict(X_val_new)\n",
    "y_pred_proba = clf_rf.predict_proba(X_val_new)\n",
    "auc_score = roc_auc_score(y_val, y_pred_proba[:,1])\n",
    "ap = average_precision_score(y_val, y_pred_proba[:,1])\n",
    "\n",
    "print(\"Accuracy:\", accuracy_score(y_val, y_pred))\n",
    "print(\"AUC-ROC:\", auc_score)\n",
    "print(\"PR-ROC:\", ap)"
   ]
  },
  {
   "cell_type": "code",
   "execution_count": 23,
   "metadata": {},
   "outputs": [
    {
     "name": "stdout",
     "output_type": "stream",
     "text": [
      "Accuracy: 0.9522049765952205\n",
      "AUC-ROC: 0.8460199664492315\n",
      "PR-ROC: 0.3980857285741317\n"
     ]
    }
   ],
   "source": [
    "y_pred = clf_rf.predict(X_test_new)\n",
    "y_pred_proba = clf_rf.predict_proba(X_test_new)\n",
    "auc_score = roc_auc_score(y_test, y_pred_proba[:,1])\n",
    "ap = average_precision_score(y_test, y_pred_proba[:,1])\n",
    "\n",
    "print(\"Accuracy:\", accuracy_score(y_test, y_pred))\n",
    "print(\"AUC-ROC:\", auc_score)\n",
    "print(\"PR-ROC:\", ap)"
   ]
  },
  {
   "cell_type": "code",
   "execution_count": null,
   "metadata": {},
   "outputs": [],
   "source": []
  }
 ],
 "metadata": {
  "interpreter": {
   "hash": "e5ed79da61d64e3c326f85804a9a2c1fdc2c426a0b478f8b6c1cd1827151984a"
  },
  "kernelspec": {
   "display_name": "Python 3.8.3 ('base')",
   "language": "python",
   "name": "python3"
  },
  "language_info": {
   "codemirror_mode": {
    "name": "ipython",
    "version": 3
   },
   "file_extension": ".py",
   "mimetype": "text/x-python",
   "name": "python",
   "nbconvert_exporter": "python",
   "pygments_lexer": "ipython3",
   "version": "3.8.3"
  },
  "orig_nbformat": 4
 },
 "nbformat": 4,
 "nbformat_minor": 2
}
