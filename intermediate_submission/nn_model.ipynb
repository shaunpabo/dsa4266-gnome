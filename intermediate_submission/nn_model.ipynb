{
 "cells": [
  {
   "cell_type": "code",
   "execution_count": 1,
   "metadata": {},
   "outputs": [],
   "source": [
    "import pandas as pd\n",
    "import numpy as np\n",
    "from sklearn.model_selection import StratifiedKFold\n",
    "from sklearn.metrics import average_precision_score, roc_auc_score, accuracy_score\n",
    "import matplotlib.pyplot as plt\n",
    "import math\n",
    "from nn_model import *\n",
    "from nn_dataset import GeneDataset\n",
    "import torch.optim as optim\n",
    "from torch.utils.data import DataLoader"
   ]
  },
  {
   "cell_type": "markdown",
   "metadata": {},
   "source": [
    "## Resampling"
   ]
  },
  {
   "cell_type": "code",
   "execution_count": 2,
   "metadata": {},
   "outputs": [],
   "source": [
    "df = pd.read_csv('merged_data.csv')"
   ]
  },
  {
   "cell_type": "code",
   "execution_count": 3,
   "metadata": {},
   "outputs": [],
   "source": [
    "df.drop(columns=['gene_id', 'transcript_pos'], inplace=True)"
   ]
  },
  {
   "cell_type": "code",
   "execution_count": 4,
   "metadata": {},
   "outputs": [],
   "source": [
    "all_genes = df.transcript_id.unique().tolist()\n",
    "train_genes_count = int(len(all_genes)*0.8)\n",
    "train_genes = all_genes[:train_genes_count]\n",
    "val_genes = all_genes[train_genes_count:]"
   ]
  },
  {
   "cell_type": "code",
   "execution_count": 5,
   "metadata": {},
   "outputs": [
    {
     "data": {
      "text/plain": [
       "(4266, 1067)"
      ]
     },
     "execution_count": 5,
     "metadata": {},
     "output_type": "execute_result"
    }
   ],
   "source": [
    "len(train_genes), len(val_genes)"
   ]
  },
  {
   "cell_type": "code",
   "execution_count": 6,
   "metadata": {},
   "outputs": [],
   "source": [
    "train_df = df[df.transcript_id.isin(train_genes)]\n",
    "val_df = df[df.transcript_id.isin(val_genes)]"
   ]
  },
  {
   "cell_type": "code",
   "execution_count": 7,
   "metadata": {},
   "outputs": [],
   "source": [
    "X_train = train_df.drop(columns=['transcript_id', 'nucleo_seq', 'transcript_position', 'label'])\n",
    "y_train = train_df.label"
   ]
  },
  {
   "cell_type": "code",
   "execution_count": 8,
   "metadata": {},
   "outputs": [],
   "source": [
    "from sklearn.model_selection import StratifiedKFold\n",
    "from sklearn.model_selection import cross_val_score\n",
    "from sklearn.preprocessing import StandardScaler"
   ]
  },
  {
   "cell_type": "code",
   "execution_count": 9,
   "metadata": {},
   "outputs": [
    {
     "data": {
      "text/html": [
       "<style>#sk-container-id-1 {color: black;}#sk-container-id-1 pre{padding: 0;}#sk-container-id-1 div.sk-toggleable {background-color: white;}#sk-container-id-1 label.sk-toggleable__label {cursor: pointer;display: block;width: 100%;margin-bottom: 0;padding: 0.3em;box-sizing: border-box;text-align: center;}#sk-container-id-1 label.sk-toggleable__label-arrow:before {content: \"▸\";float: left;margin-right: 0.25em;color: #696969;}#sk-container-id-1 label.sk-toggleable__label-arrow:hover:before {color: black;}#sk-container-id-1 div.sk-estimator:hover label.sk-toggleable__label-arrow:before {color: black;}#sk-container-id-1 div.sk-toggleable__content {max-height: 0;max-width: 0;overflow: hidden;text-align: left;background-color: #f0f8ff;}#sk-container-id-1 div.sk-toggleable__content pre {margin: 0.2em;color: black;border-radius: 0.25em;background-color: #f0f8ff;}#sk-container-id-1 input.sk-toggleable__control:checked~div.sk-toggleable__content {max-height: 200px;max-width: 100%;overflow: auto;}#sk-container-id-1 input.sk-toggleable__control:checked~label.sk-toggleable__label-arrow:before {content: \"▾\";}#sk-container-id-1 div.sk-estimator input.sk-toggleable__control:checked~label.sk-toggleable__label {background-color: #d4ebff;}#sk-container-id-1 div.sk-label input.sk-toggleable__control:checked~label.sk-toggleable__label {background-color: #d4ebff;}#sk-container-id-1 input.sk-hidden--visually {border: 0;clip: rect(1px 1px 1px 1px);clip: rect(1px, 1px, 1px, 1px);height: 1px;margin: -1px;overflow: hidden;padding: 0;position: absolute;width: 1px;}#sk-container-id-1 div.sk-estimator {font-family: monospace;background-color: #f0f8ff;border: 1px dotted black;border-radius: 0.25em;box-sizing: border-box;margin-bottom: 0.5em;}#sk-container-id-1 div.sk-estimator:hover {background-color: #d4ebff;}#sk-container-id-1 div.sk-parallel-item::after {content: \"\";width: 100%;border-bottom: 1px solid gray;flex-grow: 1;}#sk-container-id-1 div.sk-label:hover label.sk-toggleable__label {background-color: #d4ebff;}#sk-container-id-1 div.sk-serial::before {content: \"\";position: absolute;border-left: 1px solid gray;box-sizing: border-box;top: 0;bottom: 0;left: 50%;z-index: 0;}#sk-container-id-1 div.sk-serial {display: flex;flex-direction: column;align-items: center;background-color: white;padding-right: 0.2em;padding-left: 0.2em;position: relative;}#sk-container-id-1 div.sk-item {position: relative;z-index: 1;}#sk-container-id-1 div.sk-parallel {display: flex;align-items: stretch;justify-content: center;background-color: white;position: relative;}#sk-container-id-1 div.sk-item::before, #sk-container-id-1 div.sk-parallel-item::before {content: \"\";position: absolute;border-left: 1px solid gray;box-sizing: border-box;top: 0;bottom: 0;left: 50%;z-index: -1;}#sk-container-id-1 div.sk-parallel-item {display: flex;flex-direction: column;z-index: 1;position: relative;background-color: white;}#sk-container-id-1 div.sk-parallel-item:first-child::after {align-self: flex-end;width: 50%;}#sk-container-id-1 div.sk-parallel-item:last-child::after {align-self: flex-start;width: 50%;}#sk-container-id-1 div.sk-parallel-item:only-child::after {width: 0;}#sk-container-id-1 div.sk-dashed-wrapped {border: 1px dashed gray;margin: 0 0.4em 0.5em 0.4em;box-sizing: border-box;padding-bottom: 0.4em;background-color: white;}#sk-container-id-1 div.sk-label label {font-family: monospace;font-weight: bold;display: inline-block;line-height: 1.2em;}#sk-container-id-1 div.sk-label-container {text-align: center;}#sk-container-id-1 div.sk-container {/* jupyter's `normalize.less` sets `[hidden] { display: none; }` but bootstrap.min.css set `[hidden] { display: none !important; }` so we also need the `!important` here to be able to override the default hidden behavior on the sphinx rendered scikit-learn.org. See: https://github.com/scikit-learn/scikit-learn/issues/21755 */display: inline-block !important;position: relative;}#sk-container-id-1 div.sk-text-repr-fallback {display: none;}</style><div id=\"sk-container-id-1\" class=\"sk-top-container\"><div class=\"sk-text-repr-fallback\"><pre>StandardScaler()</pre><b>In a Jupyter environment, please rerun this cell to show the HTML representation or trust the notebook. <br />On GitHub, the HTML representation is unable to render, please try loading this page with nbviewer.org.</b></div><div class=\"sk-container\" hidden><div class=\"sk-item\"><div class=\"sk-estimator sk-toggleable\"><input class=\"sk-toggleable__control sk-hidden--visually\" id=\"sk-estimator-id-1\" type=\"checkbox\" checked><label for=\"sk-estimator-id-1\" class=\"sk-toggleable__label sk-toggleable__label-arrow\">StandardScaler</label><div class=\"sk-toggleable__content\"><pre>StandardScaler()</pre></div></div></div></div></div>"
      ],
      "text/plain": [
       "StandardScaler()"
      ]
     },
     "execution_count": 9,
     "metadata": {},
     "output_type": "execute_result"
    }
   ],
   "source": [
    "scaler = StandardScaler()\n",
    "for_scaler = df.drop(columns=['transcript_id', 'nucleo_seq', 'transcript_position', 'label'])\n",
    "scaler.fit(for_scaler)"
   ]
  },
  {
   "cell_type": "code",
   "execution_count": 10,
   "metadata": {},
   "outputs": [],
   "source": [
    "clf = ClassificationNN()\n",
    "clf = clf.float()\n",
    "\n",
    "criterion = nn.BCELoss()\n",
    "optimizer = optim.Adam(clf.parameters(), lr=0.001)"
   ]
  },
  {
   "cell_type": "code",
   "execution_count": 11,
   "metadata": {},
   "outputs": [],
   "source": [
    "strtfdKFold = StratifiedKFold(n_splits=5)\n",
    "kfold = strtfdKFold.split(X_train, y_train)\n",
    "accuracy = []\n",
    "auc_roc = []\n",
    "pr_roc = []"
   ]
  },
  {
   "cell_type": "code",
   "execution_count": 12,
   "metadata": {},
   "outputs": [],
   "source": [
    "from imblearn.over_sampling import SMOTE\n",
    "\n",
    "oversample = SMOTE()"
   ]
  },
  {
   "cell_type": "markdown",
   "metadata": {},
   "source": [
    "## Train loop"
   ]
  },
  {
   "cell_type": "code",
   "execution_count": 13,
   "metadata": {},
   "outputs": [
    {
     "name": "stdout",
     "output_type": "stream",
     "text": [
      "Epoch: 0, final loss: 6000.627\n",
      "Epoch: 1, final loss: 5985.886\n",
      "Epoch: 2, final loss: 5982.136\n",
      "Finish training\n",
      "Fold 1 | Accuracy: 0.645981290101386 | AUC ROC: 0.7262552380708753 | PR ROC 0.10116539040063995 || label 0: 78008, label 1: 78008\n",
      "Epoch: 0, final loss: 5923.384\n",
      "Epoch: 1, final loss: 5922.386\n",
      "Epoch: 2, final loss: 5921.727\n",
      "Finish training\n",
      "Fold 2 | Accuracy: 0.6459149686520376 | AUC ROC: 0.7045805434980915 | PR ROC 0.09637595170751365 || label 0: 78009, label 1: 78009\n",
      "Epoch: 0, final loss: 5956.953\n",
      "Epoch: 1, final loss: 5958.072\n",
      "Epoch: 2, final loss: 5957.460\n",
      "Finish training\n",
      "Fold 3 | Accuracy: 0.640967868338558 | AUC ROC: 0.720694359575307 | PR ROC 0.10365868713148574 || label 0: 78009, label 1: 78009\n",
      "Epoch: 0, final loss: 5957.770\n",
      "Epoch: 1, final loss: 5957.091\n",
      "Epoch: 2, final loss: 5957.325\n",
      "Finish training\n",
      "Fold 4 | Accuracy: 0.6521845611285266 | AUC ROC: 0.7238027766663443 | PR ROC 0.10138597725352012 || label 0: 78009, label 1: 78009\n",
      "Epoch: 0, final loss: 5925.969\n",
      "Epoch: 1, final loss: 5925.535\n",
      "Epoch: 2, final loss: 5924.175\n",
      "Finish training\n",
      "Fold 5 | Accuracy: 0.6242163009404389 | AUC ROC: 0.7097692611676253 | PR ROC 0.09065117949166407 || label 0: 78009, label 1: 78009\n",
      "Cross Val Accuracy: 0.6418529978321894 | AUC ROC: 0.7170204357956488 | PR ROC: 0.0986474371969647\n"
     ]
    }
   ],
   "source": [
    "# K fold cross validation\n",
    "for k, (train, test) in enumerate(kfold):\n",
    "\n",
    "    # current Kth fold splits\n",
    "    curr_X_train = X_train.iloc[train, :]\n",
    "    curr_y_train = y_train.iloc[train]\n",
    "\n",
    "    # balance dataset (oversample label 1)\n",
    "    balanced_X_train, balanced_y_train = oversample.fit_resample(curr_X_train, curr_y_train)\n",
    "    balanced_X_train = scaler.transform(balanced_X_train)\n",
    "\n",
    "    # Load data into pytorch dataloader\n",
    "    train_dataset = GeneDataset(balanced_X_train, balanced_y_train)\n",
    "    train_dataloader = DataLoader(train_dataset, batch_size=16, shuffle=True)\n",
    "\n",
    "    # training\n",
    "    train_loop(train_dataloader, optimizer, criterion, clf, epochs=3)\n",
    "\n",
    "    # \n",
    "    curr_X_test = X_train.iloc[test, :]\n",
    "    curr_X_test = scaler.transform(curr_X_test)\n",
    "    curr_y_test = y_train.iloc[test]\n",
    "    test_dataset = GeneDataset(curr_X_test, curr_y_test)\n",
    "    test_dataloader = DataLoader(test_dataset, batch_size=16, shuffle=True)\n",
    "    \n",
    "    preds, probas, labels = eval_loop(test_dataloader, clf)\n",
    "    \n",
    "    auc_score = roc_auc_score(labels, probas)\n",
    "    ap = average_precision_score(labels, probas)\n",
    "\n",
    "    acc_score = accuracy_score(labels, preds)\n",
    "    auc_score = roc_auc_score(labels, probas)\n",
    "    pr_score = average_precision_score(labels, probas)\n",
    "\n",
    "    accuracy.append(acc_score)\n",
    "    auc_roc.append(auc_score)\n",
    "    pr_roc.append(pr_score)\n",
    "\n",
    "    print(f\"Fold {k+1} | Accuracy: {acc_score} | AUC ROC: {auc_score} | PR ROC {pr_score} || label 0: {len(balanced_y_train[balanced_y_train==0])}, label 1: {len(balanced_y_train[balanced_y_train==1])}\")\n",
    "\n",
    "print(f\"Cross Val Accuracy: {np.mean(accuracy)} | AUC ROC: {np.mean(auc_roc)} | PR ROC: {np.mean(pr_roc)}\")"
   ]
  },
  {
   "cell_type": "markdown",
   "metadata": {},
   "source": [
    "## Test dataset"
   ]
  },
  {
   "cell_type": "code",
   "execution_count": 14,
   "metadata": {},
   "outputs": [],
   "source": [
    "X_val = val_df.drop(columns=['transcript_id', 'nucleo_seq', 'transcript_position', 'label'])\n",
    "X_val = scaler.transform(X_val)\n",
    "y_val = val_df.label"
   ]
  },
  {
   "cell_type": "code",
   "execution_count": 15,
   "metadata": {},
   "outputs": [],
   "source": [
    "val_dataset = GeneDataset(X_val, y_val)\n",
    "val_dataloader = DataLoader(val_dataset, batch_size=16, shuffle=False)\n",
    "val_preds, val_proba, val_labels = eval_loop(val_dataloader, clf)"
   ]
  },
  {
   "cell_type": "code",
   "execution_count": 16,
   "metadata": {},
   "outputs": [
    {
     "name": "stdout",
     "output_type": "stream",
     "text": [
      "Accuracy: 0.6183124968365643\n",
      "AUC-ROC: 0.7107275573733403\n",
      "PR-ROC: 0.09065117949166407\n"
     ]
    }
   ],
   "source": [
    "acc_score = accuracy_score(val_labels, val_preds)\n",
    "auc_score = roc_auc_score(val_labels, val_proba)\n",
    "pr_score = average_precision_score(val_labels, val_preds)\n",
    "\n",
    "print(\"Accuracy:\", acc_score)\n",
    "print(\"AUC-ROC:\", auc_score)\n",
    "print(\"PR-ROC:\", ap)"
   ]
  },
  {
   "cell_type": "code",
   "execution_count": null,
   "metadata": {},
   "outputs": [],
   "source": []
  }
 ],
 "metadata": {
  "kernelspec": {
   "display_name": "dsa4266",
   "language": "python",
   "name": "python3"
  },
  "language_info": {
   "codemirror_mode": {
    "name": "ipython",
    "version": 3
   },
   "file_extension": ".py",
   "mimetype": "text/x-python",
   "name": "python",
   "nbconvert_exporter": "python",
   "pygments_lexer": "ipython3",
   "version": "3.8.18"
  }
 },
 "nbformat": 4,
 "nbformat_minor": 4
}
