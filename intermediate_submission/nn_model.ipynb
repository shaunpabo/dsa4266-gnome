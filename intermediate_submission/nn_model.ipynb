{
 "cells": [
  {
   "cell_type": "code",
   "execution_count": 1,
   "metadata": {},
   "outputs": [],
   "source": [
    "import pandas as pd\n",
    "import numpy as np\n",
    "from sklearn.model_selection import StratifiedKFold\n",
    "from sklearn.metrics import average_precision_score, roc_auc_score, accuracy_score\n",
    "import matplotlib.pyplot as plt\n",
    "import math\n",
    "from nn_model import *\n",
    "import torch.optim as optim"
   ]
  },
  {
   "cell_type": "code",
   "execution_count": 2,
   "metadata": {},
   "outputs": [],
   "source": [
    "X_train = pd.read_csv(\"trainset.csv\", index_col=0)\n",
    "X_test = pd.read_csv(\"testset.csv\", index_col=0)\n",
    "X_val = pd.read_csv(\"valset.csv\", index_col=0)\n",
    "\n",
    "y_train = X_train.label\n",
    "y_test = X_test.label\n",
    "y_val = X_val.label\n",
    "\n",
    "X_train = X_train.drop(columns=[\"label\",\"seq\"])\n",
    "X_test = X_test.drop(columns=[\"label\", \"seq\"])\n",
    "X_val = X_val.drop(columns=[\"label\", \"seq\"])"
   ]
  },
  {
   "cell_type": "code",
   "execution_count": 3,
   "metadata": {},
   "outputs": [
    {
     "data": {
      "text/plain": [
       "(109661, 38)"
      ]
     },
     "execution_count": 3,
     "metadata": {},
     "output_type": "execute_result"
    }
   ],
   "source": [
    "X_train.shape"
   ]
  },
  {
   "cell_type": "code",
   "execution_count": 4,
   "metadata": {},
   "outputs": [
    {
     "data": {
      "text/plain": [
       "Index(['dwell_time_-1', 'sd_-1', 'mean_-1', 'dwell_time_0', 'sd_0', 'mean_0',\n",
       "       'dwell_time_1', 'sd_1', 'mean_1', 'pwm_score', 'A_1', 'C_1', 'G_1',\n",
       "       'T_1', 'A_2', 'C_2', 'G_2', 'T_2', 'A_3', 'C_3', 'G_3', 'T_3', 'A_4',\n",
       "       'C_4', 'G_4', 'T_4', 'A_5', 'C_5', 'G_5', 'T_5', 'A_6', 'C_6', 'G_6',\n",
       "       'T_6', 'A_7', 'C_7', 'G_7', 'T_7'],\n",
       "      dtype='object')"
      ]
     },
     "execution_count": 4,
     "metadata": {},
     "output_type": "execute_result"
    }
   ],
   "source": [
    "X_train.columns"
   ]
  },
  {
   "cell_type": "markdown",
   "metadata": {},
   "source": [
    "## DataLoader"
   ]
  },
  {
   "cell_type": "code",
   "execution_count": 5,
   "metadata": {},
   "outputs": [],
   "source": [
    "from nn_dataset import GeneDataset"
   ]
  },
  {
   "cell_type": "code",
   "execution_count": 6,
   "metadata": {},
   "outputs": [],
   "source": [
    "train = GeneDataset('trainset.csv')\n",
    "test = GeneDataset('testset.csv')\n",
    "val = GeneDataset('valset.csv')"
   ]
  },
  {
   "cell_type": "code",
   "execution_count": 7,
   "metadata": {},
   "outputs": [],
   "source": [
    "from torch.utils.data import DataLoader\n",
    "\n",
    "train_dataloader = DataLoader(train, batch_size=16, shuffle=False)\n",
    "test_dataloader = DataLoader(test, batch_size=16, shuffle=False)\n",
    "val_dataloader = DataLoader(val, batch_size=16, shuffle=False)"
   ]
  },
  {
   "cell_type": "code",
   "execution_count": 8,
   "metadata": {},
   "outputs": [],
   "source": [
    "clf = ClassificationNN()\n",
    "clf = clf.float()"
   ]
  },
  {
   "cell_type": "code",
   "execution_count": 9,
   "metadata": {},
   "outputs": [],
   "source": [
    "criterion = nn.BCELoss()\n",
    "optimizer = optim.Adam(clf.parameters(), lr=0.001)"
   ]
  },
  {
   "cell_type": "code",
   "execution_count": 11,
   "metadata": {
    "scrolled": true
   },
   "outputs": [
    {
     "name": "stdout",
     "output_type": "stream",
     "text": [
      "Epoch: 1, batch: 1000, loss: 246.649\n",
      "Epoch: 1, batch: 2000, loss: 423.533\n",
      "Epoch: 1, batch: 3000, loss: 643.419\n",
      "Epoch: 1, batch: 4000, loss: 812.730\n",
      "Epoch: 1, batch: 5000, loss: 981.854\n",
      "Epoch: 1, batch: 6000, loss: 1156.514\n",
      "Epoch: 2, batch: 1000, loss: 190.568\n",
      "Epoch: 2, batch: 2000, loss: 361.307\n",
      "Epoch: 2, batch: 3000, loss: 576.740\n",
      "Epoch: 2, batch: 4000, loss: 742.641\n",
      "Epoch: 2, batch: 5000, loss: 908.278\n",
      "Epoch: 2, batch: 6000, loss: 1080.555\n",
      "Epoch: 3, batch: 1000, loss: 187.465\n",
      "Epoch: 3, batch: 2000, loss: 356.123\n",
      "Epoch: 3, batch: 3000, loss: 568.593\n",
      "Epoch: 3, batch: 4000, loss: 732.387\n",
      "Epoch: 3, batch: 5000, loss: 896.015\n",
      "Epoch: 3, batch: 6000, loss: 1066.992\n",
      "Epoch: 4, batch: 1000, loss: 185.613\n",
      "Epoch: 4, batch: 2000, loss: 352.518\n",
      "Epoch: 4, batch: 3000, loss: 562.995\n",
      "Epoch: 4, batch: 4000, loss: 725.702\n",
      "Epoch: 4, batch: 5000, loss: 888.055\n",
      "Epoch: 4, batch: 6000, loss: 1058.157\n",
      "Epoch: 5, batch: 1000, loss: 184.294\n",
      "Epoch: 5, batch: 2000, loss: 350.324\n",
      "Epoch: 5, batch: 3000, loss: 559.629\n",
      "Epoch: 5, batch: 4000, loss: 721.238\n",
      "Epoch: 5, batch: 5000, loss: 882.754\n",
      "Epoch: 5, batch: 6000, loss: 1052.287\n",
      "Epoch: 6, batch: 1000, loss: 183.524\n",
      "Epoch: 6, batch: 2000, loss: 348.786\n",
      "Epoch: 6, batch: 3000, loss: 557.213\n",
      "Epoch: 6, batch: 4000, loss: 718.158\n",
      "Epoch: 6, batch: 5000, loss: 879.126\n",
      "Epoch: 6, batch: 6000, loss: 1048.188\n",
      "Epoch: 7, batch: 1000, loss: 182.894\n",
      "Epoch: 7, batch: 2000, loss: 347.643\n",
      "Epoch: 7, batch: 3000, loss: 555.576\n",
      "Epoch: 7, batch: 4000, loss: 715.933\n",
      "Epoch: 7, batch: 5000, loss: 876.458\n",
      "Epoch: 7, batch: 6000, loss: 1045.135\n",
      "Epoch: 8, batch: 1000, loss: 182.405\n",
      "Epoch: 8, batch: 2000, loss: 346.708\n",
      "Epoch: 8, batch: 3000, loss: 553.891\n",
      "Epoch: 8, batch: 4000, loss: 713.832\n",
      "Epoch: 8, batch: 5000, loss: 874.059\n",
      "Epoch: 8, batch: 6000, loss: 1042.394\n",
      "Epoch: 9, batch: 1000, loss: 181.875\n",
      "Epoch: 9, batch: 2000, loss: 345.872\n",
      "Epoch: 9, batch: 3000, loss: 552.518\n",
      "Epoch: 9, batch: 4000, loss: 712.109\n",
      "Epoch: 9, batch: 5000, loss: 871.970\n",
      "Epoch: 9, batch: 6000, loss: 1040.043\n",
      "Epoch: 10, batch: 1000, loss: 181.456\n",
      "Epoch: 10, batch: 2000, loss: 345.098\n",
      "Epoch: 10, batch: 3000, loss: 551.310\n",
      "Epoch: 10, batch: 4000, loss: 710.453\n",
      "Epoch: 10, batch: 5000, loss: 870.056\n",
      "Epoch: 10, batch: 6000, loss: 1037.800\n",
      "Finish training\n"
     ]
    }
   ],
   "source": [
    "for epoch in range(10):\n",
    "\n",
    "    running_loss = 0.0\n",
    "    for i, data in enumerate(train_dataloader, 0):\n",
    "        # get the inputs (data is in a list of [X_train, y_train])\n",
    "        inputs, labels = data\n",
    "        inputs = inputs.float()\n",
    "        labels = labels[:, None].float()\n",
    "\n",
    "        # zero the parameter gradients\n",
    "        optimizer.zero_grad()\n",
    "\n",
    "        # forward + backward + optimize\n",
    "        outputs = clf(inputs)\n",
    "        loss = criterion(outputs, labels)\n",
    "        loss.backward()\n",
    "        optimizer.step()\n",
    "\n",
    "        # print verbose\n",
    "        running_loss += loss.item()\n",
    "        if i % 1000 == 999:\n",
    "            print(f\"Epoch: {epoch+1}, batch: {i + 1:4d}, loss: {running_loss:.3f}\")\n",
    "\n",
    "print('Finish training')"
   ]
  },
  {
   "cell_type": "code",
   "execution_count": 12,
   "metadata": {},
   "outputs": [],
   "source": [
    "dataiter = iter(test_dataloader)\n"
   ]
  },
  {
   "cell_type": "code",
   "execution_count": 19,
   "metadata": {},
   "outputs": [],
   "source": [
    "x_test, y_test = next(dataiter)"
   ]
  },
  {
   "cell_type": "code",
   "execution_count": 26,
   "metadata": {},
   "outputs": [
    {
     "data": {
      "text/plain": [
       "[0, 0, 0, 0, 0, 0, 0, 0, 0, 0, 0, 0, 1, 0, 0, 0]"
      ]
     },
     "execution_count": 26,
     "metadata": {},
     "output_type": "execute_result"
    }
   ],
   "source": [
    "y_test.tolist()"
   ]
  },
  {
   "cell_type": "code",
   "execution_count": 21,
   "metadata": {},
   "outputs": [],
   "source": [
    "output = clf(x_test.float())"
   ]
  },
  {
   "cell_type": "code",
   "execution_count": 22,
   "metadata": {},
   "outputs": [
    {
     "data": {
      "text/plain": [
       "tensor([[0.0078],\n",
       "        [0.0078],\n",
       "        [0.0113],\n",
       "        [0.0192],\n",
       "        [0.0065],\n",
       "        [0.0146],\n",
       "        [0.0308],\n",
       "        [0.0134],\n",
       "        [0.0425],\n",
       "        [0.0357],\n",
       "        [0.0462],\n",
       "        [0.0196],\n",
       "        [0.0098],\n",
       "        [0.0210],\n",
       "        [0.0122],\n",
       "        [0.0190]], grad_fn=<SigmoidBackward>)"
      ]
     },
     "execution_count": 22,
     "metadata": {},
     "output_type": "execute_result"
    }
   ],
   "source": [
    "output"
   ]
  },
  {
   "cell_type": "code",
   "execution_count": 27,
   "metadata": {},
   "outputs": [],
   "source": [
    "preds = torch.flatten(output).tolist()"
   ]
  },
  {
   "cell_type": "code",
   "execution_count": 28,
   "metadata": {},
   "outputs": [],
   "source": [
    "preds = list(map(lambda x: 1 if x >= 0.5 else 0, preds))"
   ]
  },
  {
   "cell_type": "code",
   "execution_count": 30,
   "metadata": {},
   "outputs": [],
   "source": [
    "target = y_test.tolist()"
   ]
  },
  {
   "cell_type": "code",
   "execution_count": 31,
   "metadata": {},
   "outputs": [
    {
     "data": {
      "text/plain": [
       "([0, 0, 0, 0, 0, 0, 0, 0, 0, 0, 0, 0, 0, 0, 0, 0],\n",
       " [0, 0, 0, 0, 0, 0, 0, 0, 0, 0, 0, 0, 1, 0, 0, 0])"
      ]
     },
     "execution_count": 31,
     "metadata": {},
     "output_type": "execute_result"
    }
   ],
   "source": [
    "preds, target"
   ]
  },
  {
   "cell_type": "code",
   "execution_count": 40,
   "metadata": {},
   "outputs": [
    {
     "data": {
      "text/plain": [
       "[1, 1, 1, 1, 1, 1, 1]"
      ]
     },
     "execution_count": 40,
     "metadata": {},
     "output_type": "execute_result"
    }
   ],
   "source": [
    "list(map(lambda x: 1 if x[0]==x[1] else 0, zip(preds, target)))"
   ]
  },
  {
   "cell_type": "code",
   "execution_count": 41,
   "metadata": {},
   "outputs": [],
   "source": [
    "correct = 0\n",
    "total = 0\n",
    "with torch.no_grad():\n",
    "    for data in test_dataloader:\n",
    "        x_test, y_test = data\n",
    "        x_test = x_test.float()\n",
    "\n",
    "        output = clf(x_test)\n",
    "        preds = torch.flatten(output).tolist()\n",
    "        preds = list(map(lambda x: 1 if x >= 0.5 else 0, preds))\n",
    "        y_test = y_test.tolist()\n",
    "        total += len(y_test)\n",
    "        correct += sum(list(map(lambda x: 1 if x[0]==x[1] else 0, zip(preds, target))))"
   ]
  },
  {
   "cell_type": "code",
   "execution_count": 42,
   "metadata": {},
   "outputs": [
    {
     "name": "stdout",
     "output_type": "stream",
     "text": [
      "Accuracy: 93\n"
     ]
    }
   ],
   "source": [
    "print(f\"Accuracy: {100 * correct//total}\")"
   ]
  }
 ],
 "metadata": {
  "interpreter": {
   "hash": "e5ed79da61d64e3c326f85804a9a2c1fdc2c426a0b478f8b6c1cd1827151984a"
  },
  "kernelspec": {
   "display_name": "dsa4266",
   "language": "python",
   "name": "dsa4266"
  },
  "language_info": {
   "codemirror_mode": {
    "name": "ipython",
    "version": 3
   },
   "file_extension": ".py",
   "mimetype": "text/x-python",
   "name": "python",
   "nbconvert_exporter": "python",
   "pygments_lexer": "ipython3",
   "version": "3.8.18"
  }
 },
 "nbformat": 4,
 "nbformat_minor": 4
}
